{
  "nbformat": 4,
  "nbformat_minor": 0,
  "metadata": {
    "colab": {
      "provenance": []
    },
    "kernelspec": {
      "name": "python3",
      "display_name": "Python 3"
    },
    "language_info": {
      "name": "python"
    }
  },
  "cells": [
    {
      "cell_type": "code",
      "execution_count": 43,
      "metadata": {
        "id": "3USq0liCuZuH"
      },
      "outputs": [],
      "source": [
        "#Import libraries\n",
        "import numpy as np\n",
        "import pandas as pd\n",
        "import matplotlib.pyplot as plt\n",
        "import seaborn as sns\n",
        "\n"
      ]
    },
    {
      "cell_type": "code",
      "source": [
        "from google.colab import files\n",
        "uploaded = files.upload()"
      ],
      "metadata": {
        "colab": {
          "base_uri": "https://localhost:8080/",
          "height": 74
        },
        "id": "iyq2kzqn4l-o",
        "outputId": "eaa9c78d-0ba4-4c7e-a7ee-4bf2fb69e4f3"
      },
      "execution_count": 44,
      "outputs": [
        {
          "output_type": "display_data",
          "data": {
            "text/plain": [
              "<IPython.core.display.HTML object>"
            ],
            "text/html": [
              "\n",
              "     <input type=\"file\" id=\"files-49ff5e5d-dc32-454e-8f43-585d5c4eeeb8\" name=\"files[]\" multiple disabled\n",
              "        style=\"border:none\" />\n",
              "     <output id=\"result-49ff5e5d-dc32-454e-8f43-585d5c4eeeb8\">\n",
              "      Upload widget is only available when the cell has been executed in the\n",
              "      current browser session. Please rerun this cell to enable.\n",
              "      </output>\n",
              "      <script>// Copyright 2017 Google LLC\n",
              "//\n",
              "// Licensed under the Apache License, Version 2.0 (the \"License\");\n",
              "// you may not use this file except in compliance with the License.\n",
              "// You may obtain a copy of the License at\n",
              "//\n",
              "//      http://www.apache.org/licenses/LICENSE-2.0\n",
              "//\n",
              "// Unless required by applicable law or agreed to in writing, software\n",
              "// distributed under the License is distributed on an \"AS IS\" BASIS,\n",
              "// WITHOUT WARRANTIES OR CONDITIONS OF ANY KIND, either express or implied.\n",
              "// See the License for the specific language governing permissions and\n",
              "// limitations under the License.\n",
              "\n",
              "/**\n",
              " * @fileoverview Helpers for google.colab Python module.\n",
              " */\n",
              "(function(scope) {\n",
              "function span(text, styleAttributes = {}) {\n",
              "  const element = document.createElement('span');\n",
              "  element.textContent = text;\n",
              "  for (const key of Object.keys(styleAttributes)) {\n",
              "    element.style[key] = styleAttributes[key];\n",
              "  }\n",
              "  return element;\n",
              "}\n",
              "\n",
              "// Max number of bytes which will be uploaded at a time.\n",
              "const MAX_PAYLOAD_SIZE = 100 * 1024;\n",
              "\n",
              "function _uploadFiles(inputId, outputId) {\n",
              "  const steps = uploadFilesStep(inputId, outputId);\n",
              "  const outputElement = document.getElementById(outputId);\n",
              "  // Cache steps on the outputElement to make it available for the next call\n",
              "  // to uploadFilesContinue from Python.\n",
              "  outputElement.steps = steps;\n",
              "\n",
              "  return _uploadFilesContinue(outputId);\n",
              "}\n",
              "\n",
              "// This is roughly an async generator (not supported in the browser yet),\n",
              "// where there are multiple asynchronous steps and the Python side is going\n",
              "// to poll for completion of each step.\n",
              "// This uses a Promise to block the python side on completion of each step,\n",
              "// then passes the result of the previous step as the input to the next step.\n",
              "function _uploadFilesContinue(outputId) {\n",
              "  const outputElement = document.getElementById(outputId);\n",
              "  const steps = outputElement.steps;\n",
              "\n",
              "  const next = steps.next(outputElement.lastPromiseValue);\n",
              "  return Promise.resolve(next.value.promise).then((value) => {\n",
              "    // Cache the last promise value to make it available to the next\n",
              "    // step of the generator.\n",
              "    outputElement.lastPromiseValue = value;\n",
              "    return next.value.response;\n",
              "  });\n",
              "}\n",
              "\n",
              "/**\n",
              " * Generator function which is called between each async step of the upload\n",
              " * process.\n",
              " * @param {string} inputId Element ID of the input file picker element.\n",
              " * @param {string} outputId Element ID of the output display.\n",
              " * @return {!Iterable<!Object>} Iterable of next steps.\n",
              " */\n",
              "function* uploadFilesStep(inputId, outputId) {\n",
              "  const inputElement = document.getElementById(inputId);\n",
              "  inputElement.disabled = false;\n",
              "\n",
              "  const outputElement = document.getElementById(outputId);\n",
              "  outputElement.innerHTML = '';\n",
              "\n",
              "  const pickedPromise = new Promise((resolve) => {\n",
              "    inputElement.addEventListener('change', (e) => {\n",
              "      resolve(e.target.files);\n",
              "    });\n",
              "  });\n",
              "\n",
              "  const cancel = document.createElement('button');\n",
              "  inputElement.parentElement.appendChild(cancel);\n",
              "  cancel.textContent = 'Cancel upload';\n",
              "  const cancelPromise = new Promise((resolve) => {\n",
              "    cancel.onclick = () => {\n",
              "      resolve(null);\n",
              "    };\n",
              "  });\n",
              "\n",
              "  // Wait for the user to pick the files.\n",
              "  const files = yield {\n",
              "    promise: Promise.race([pickedPromise, cancelPromise]),\n",
              "    response: {\n",
              "      action: 'starting',\n",
              "    }\n",
              "  };\n",
              "\n",
              "  cancel.remove();\n",
              "\n",
              "  // Disable the input element since further picks are not allowed.\n",
              "  inputElement.disabled = true;\n",
              "\n",
              "  if (!files) {\n",
              "    return {\n",
              "      response: {\n",
              "        action: 'complete',\n",
              "      }\n",
              "    };\n",
              "  }\n",
              "\n",
              "  for (const file of files) {\n",
              "    const li = document.createElement('li');\n",
              "    li.append(span(file.name, {fontWeight: 'bold'}));\n",
              "    li.append(span(\n",
              "        `(${file.type || 'n/a'}) - ${file.size} bytes, ` +\n",
              "        `last modified: ${\n",
              "            file.lastModifiedDate ? file.lastModifiedDate.toLocaleDateString() :\n",
              "                                    'n/a'} - `));\n",
              "    const percent = span('0% done');\n",
              "    li.appendChild(percent);\n",
              "\n",
              "    outputElement.appendChild(li);\n",
              "\n",
              "    const fileDataPromise = new Promise((resolve) => {\n",
              "      const reader = new FileReader();\n",
              "      reader.onload = (e) => {\n",
              "        resolve(e.target.result);\n",
              "      };\n",
              "      reader.readAsArrayBuffer(file);\n",
              "    });\n",
              "    // Wait for the data to be ready.\n",
              "    let fileData = yield {\n",
              "      promise: fileDataPromise,\n",
              "      response: {\n",
              "        action: 'continue',\n",
              "      }\n",
              "    };\n",
              "\n",
              "    // Use a chunked sending to avoid message size limits. See b/62115660.\n",
              "    let position = 0;\n",
              "    do {\n",
              "      const length = Math.min(fileData.byteLength - position, MAX_PAYLOAD_SIZE);\n",
              "      const chunk = new Uint8Array(fileData, position, length);\n",
              "      position += length;\n",
              "\n",
              "      const base64 = btoa(String.fromCharCode.apply(null, chunk));\n",
              "      yield {\n",
              "        response: {\n",
              "          action: 'append',\n",
              "          file: file.name,\n",
              "          data: base64,\n",
              "        },\n",
              "      };\n",
              "\n",
              "      let percentDone = fileData.byteLength === 0 ?\n",
              "          100 :\n",
              "          Math.round((position / fileData.byteLength) * 100);\n",
              "      percent.textContent = `${percentDone}% done`;\n",
              "\n",
              "    } while (position < fileData.byteLength);\n",
              "  }\n",
              "\n",
              "  // All done.\n",
              "  yield {\n",
              "    response: {\n",
              "      action: 'complete',\n",
              "    }\n",
              "  };\n",
              "}\n",
              "\n",
              "scope.google = scope.google || {};\n",
              "scope.google.colab = scope.google.colab || {};\n",
              "scope.google.colab._files = {\n",
              "  _uploadFiles,\n",
              "  _uploadFilesContinue,\n",
              "};\n",
              "})(self);\n",
              "</script> "
            ]
          },
          "metadata": {}
        },
        {
          "output_type": "stream",
          "name": "stdout",
          "text": [
            "Saving BD Crime Statistics 2010-2019.csv to BD Crime Statistics 2010-2019 (5).csv\n"
          ]
        }
      ]
    },
    {
      "cell_type": "code",
      "source": [
        "df = pd.read_csv('BD Crime Statistics 2010-2019.csv')\n",
        "print(df.to_string()) "
      ],
      "metadata": {
        "colab": {
          "base_uri": "https://localhost:8080/"
        },
        "id": "67nrsvc_wjIK",
        "outputId": "8cae8e2a-2224-42a6-cd5e-4dd6a0cdd622"
      },
      "execution_count": 45,
      "outputs": [
        {
          "output_type": "stream",
          "name": "stdout",
          "text": [
            "     Year         Unit Name  Dacoity  Robbery  Murder  Speedy Trial  Riot  Woman & Child Repression  Kidnapping  Police Assault  Burglary  Theft  Other Cases  Arms Act - RC  Explosive - RC  Narcotics - RC  Smuggling - RC  Total - RC  Total Cases\n",
            "0    2010               DMP       47      220     245           363     3                      1370         139             155       555   1915         7228            518              82           10535             144       11279        23519\n",
            "1    2010               CMP       16      108      94            31     7                       455          37              31       123    314         1831             51               0             866              99        1016         4063\n",
            "2    2010               KMP        3        9      29            25     0                       153          11               4        65     91          551             19               2             792              13         826         1767\n",
            "3    2010               RMP        4       20      21             9    15                       157           9              12        53    106          578              3               4             332             248         587         1571\n",
            "4    2010               BMP        8       12      19            21     0                       112           6               8        24     83          557             17               0             155             117         289         1139\n",
            "5    2010               SMP       12       33      33            34     1                       104          14              12        33    154          866             14               0             154              20         188         1484\n",
            "6    2010       Dhaka Range      162      199    1153           362     7                      4272         171              71       643   1477        19966            309              30            4459             993        5791        34274\n",
            "7    2010  Mymensingh Range        0        0       0             0     0                         0           0               0         0      0            0              0               0               0               0           0            0\n",
            "8    2010  Chittagong Range      153      122     639           245    32                      2915         111              87       429    998        12985            235              20            4730             612        5597        24313\n",
            "9    2010      Sylhet Range       85       43     245            75    17                       848          41              19       186    524         5266             30               4             905             172        1111         8460\n",
            "10   2010      Khulna Range       74      125     513           110    15                      2275         156              25       332    947         9954            211              96            2292            1238        3837        18363\n",
            "11   2010     Barisal Range       38       37     207           112     3                       991          65              13       214    374         6561             33               5             334              33         405         9020\n",
            "12   2010    Rajshahi Range       54      130     757           276    29                      4095         105              35       442   1442        20654            134              10            3614            2509        6267        34286\n",
            "13   2010     Rangpur Range        0        0       0             0     0                         0           0               0         0      0            0              0               0               0               0           0            0\n",
            "14   2010     Railway Range        0        1      33             3     1                         5           5               1         2    104          142              1               0             176             165         342          639\n",
            "15   2010               GMP        0        0       0             0     0                         0           0               0         0      0            0              0               0               0               0           0            0\n",
            "16   2010              RPMP        0        0       0             0     0                         0           0               0         0      0            0              0               0               0               0           0            0\n",
            "17   2010               ATU        0        0       0             0     0                         0           0               0         0      0            0              0               0               0               0           0            0\n",
            "18   2010             Total      656     1059    3988          1666   130                     17752         870             473      3101   8529        87139           1575             253           29344            6363       37535       162898\n",
            "19   2011               DMP       43      294     259           324     9                      1538         118             142       589   2050         6766            358              77           10405              88       10928        23060\n",
            "20   2011               CMP       16       66      83            43    15                       408          30              19       125    355         1304             89               4            1541              28        1662         4126\n",
            "21   2011               KMP        3       13      23            17     0                       171          12              10        57     92          478             14               3             495               9         521         1397\n",
            "22   2011               RMP        2       14      18             3     3                       146          16              11        55    101          665              8               1             253             199         461         1495\n",
            "23   2011               BMP       18        8      15            12     0                       147           9              12        40     88          564             11               0             196              80         287         1200\n",
            "24   2011               SMP        9       24      37            42     1                       158          16              16        31    129          857              8               0             178              32         218         1538\n",
            "25   2011       Dhaka Range      160      174    1199           361    17                      4838         144             117       607   1731        19993            260              25            7497            1076        8858        38199\n",
            "26   2011  Mymensingh Range        0        0       0             0     0                         0           0               0         0      0            0              0               0               0               0           0            0\n",
            "27   2011  Chittagong Range      164      116     640           241    10                      4397         105             116       458   1130        13846            192              20            4122             555        4889        26112\n",
            "28   2011      Sylhet Range       60       42     283            58    19                       987          40              27       177    481         5473             19               0            1464             190        1673         9320\n",
            "29   2011      Khulna Range       58      124     414           105     5                      2796         119              32       395    902        10452            152              60            2168            1047        3427        18829\n",
            "30   2011     Barisal Range       33       43     194           473     8                      1060          60              20       214    331         6611             41               6             350              19         416         9463\n",
            "31   2011    Rajshahi Range       81      146     780           179    22                      4735         121              58       385   1388        21174            114              11            2763            2276        5164        34233\n",
            "32   2011     Rangpur Range        0        0       0             0     0                         0           0               0         0      0            0              0               0               0               0           0            0\n",
            "33   2011     Railway Range        3        5      21             5     0                         8           2               1         1     95          172              3               0             264             115         382          695\n",
            "34   2011               GMP        0        0       0             0     0                         0           0               0         0      0            0              0               0               0               0           0            0\n",
            "35   2011              RPMP        0        0       0             0     0                         0           0               0         0      0            0              0               0               0               0           0            0\n",
            "36   2011               ATU        0        0       0             0     0                         0           0               0         0      0            0              0               0               0               0           0            0\n",
            "37   2011             Total      650     1069    3966          1863   109                     21389         792             581      3134   8873        88355           1269             207           31696            5714       38886       169667\n",
            "38   2012               DMP       66      222     264           388    11                      1637         149             136       592   2240         8296            284              94            8345              99        8822        22823\n",
            "39   2012               CMP       10       66      88            74    18                       281          27              26       112    283         1492            121               5            1976              41        2143         4620\n",
            "40   2012               KMP        1       18      23            14     0                       199          16               9        44     76          493             17               7             437              19         480         1373\n",
            "41   2012               RMP        2       24      37             9     6                       122          11              15        52    136          728              5               3             229             130         367         1509\n",
            "42   2012               BMP        8        9      20             7     0                       135           5              11        40     75          600             16               0             459              49         524         1434\n",
            "43   2012               SMP        8       15      37            52     3                       140           6              28        42    116          784             11               1             186               4         202         1433\n",
            "44   2012       Dhaka Range      154      150    1244           426     7                      5115         156             135       634   1742        21957            315              28           10918            1039       12300        44020\n",
            "45   2012  Mymensingh Range        0        0       0             0     0                         0           0               0         0      0            0              0               0               0               0           0            0\n",
            "46   2012  Chittagong Range      129      103     664           267    17                      4221         120             122       430   1134        15873            232              13            4613             531        5389        28469\n",
            "47   2012      Sylhet Range       56       26     236            66    17                       848          26              29       152    480         6018             38               3            1751             186        1978         9932\n",
            "48   2012      Khulna Range       64      151     482           153    12                      2564         167              46       359    761        11275            260             110            3372            1207        4949        20983\n",
            "49   2012     Barisal Range       34       61     170           232     1                      1168          55              13       186    277         6879             44              11             444              56         555         9631\n",
            "50   2012    Rajshahi Range       38       55     464           132     0                      2281          54              47       155    554        11932            131              12            3120            2124        5387        21099\n",
            "51   2012     Rangpur Range       20       53     354            85     2                      2235          53              41       129    607         9586             32               2            1083             959        2076        15241\n",
            "52   2012     Railway Range        3       11      31             2     0                         1           5               1         0    117          199              5               0             331             134         470          840\n",
            "53   2012               GMP        0        0       0             0     0                         0           0               0         0      0            0              0               0               0               0           0            0\n",
            "54   2012              RPMP        0        0       0             0     0                         0           0               0         0      0            0              0               0               0               0           0            0\n",
            "55   2012               ATU        0        0       0             0     0                         0           0               0         0      0            0              0               0               0               0           0            0\n",
            "56   2012             Total      593      964    4114          1907    94                     20947         850             659      2927   8598        96112           1511             289           37264            6578       45642       183407\n",
            "57   2013               DMP       47      241     270           338    37                      1631         165             203       534   2196         7077            242             387            7927             106        8662        21401\n",
            "58   2013               CMP        4       55      95            57    24                       244          18              68        74    239         1281             79              37            1977              36        2129         4288\n",
            "59   2013               KMP        2       30      31            23     0                       153          12              20        39     78          494             23              14             442               9         488         1370\n",
            "60   2013               RMP        3       23      29            19    15                       152          23              58        54    166          791             22              15             144             108         289         1622\n",
            "61   2013               BMP       11       11      17             8     1                       110           8              25        27     46          487             16               4             607               9         636         1387\n",
            "62   2013               SMP       19       29      32            33     2                       131           3              30        26    136          739             19              31             194               4         248         1428\n",
            "63   2013       Dhaka Range      147      175    1303           451    14                      4766         149             182       686   1555        22429            296             133           11139             627       12195        44052\n",
            "64   2013  Mymensingh Range        0        0       0             0     0                         0           0               0         0      0            0              0               0               0               0           0            0\n",
            "65   2013  Chittagong Range      143      132     758           262    56                      3532         130             336       425    960        15863            320              91            4801             354        5566        28163\n",
            "66   2013      Sylhet Range       53       35     266            75    21                       834          37              42       109    398         5773             27               3            1620             186        1836         9479\n",
            "67   2013      Khulna Range       76      126     520           181     1                      2309         153              99       356    720        10968            253             148            2286            1873        4560        20069\n",
            "68   2013     Barisal Range       40       31     209           115     1                      1185          62              44       154    244         6920             27              15             502              28         572         9577\n",
            "69   2013    Rajshahi Range       47       63     480           168     0                      2161          63              99       134    513        10810            163             100            2716            1896        4875        19413\n",
            "70   2013     Rangpur Range       18       62     345           163     0                      2389          54              50       142    533        10032             27              27            1213            1120        2387        16175\n",
            "71   2013     Railway Range        3        8      38             3     0                         4           2               1         2     98          266              3               2             264              81         350          775\n",
            "72   2013               GMP        0        0       0             0     0                         0           0               0         0      0            0              0               0               0               0           0            0\n",
            "73   2013              RPMP        0        0       0             0     0                         0           0               0         0      0            0              0               0               0               0           0            0\n",
            "74   2013               ATU        0        0       0             0     0                         0           0               0         0      0            0              0               0               0               0           0            0\n",
            "75   2013             Total      613     1021    4393          1896   172                     19601         879            1257      2762   7882        93930           1517            1007           35832            6437       44793       179199\n",
            "76   2014               DMP       47      265     262           332     7                      1611         176             104       650   2130         6219            225             104            7063             222        7614        19417\n",
            "77   2014               CMP        5       63     120            52    17                       387          53              31        97    310         1457            121              10            2488              56        2675         5267\n",
            "78   2014               KMP        2       29      22            17     0                       206          11               3        44    101          522             34               2             599              10         645         1602\n",
            "79   2014               RMP        0       28      22            20     6                       169          21              14        65    106          569             18              27             395             126         566         1586\n",
            "80   2014               BMP        7       16      15             3     0                        94           3               9        35     48          375             16               1             759               5         781         1386\n",
            "81   2014               SMP       21       29      44            32    13                       165           4              26        34    142          728             12               4             311              18         345         1583\n",
            "82   2014       Dhaka Range      184      221    1395           456     1                      4907         203             127       619   1582        21716            331              64           12175             555       13125        44536\n",
            "83   2014  Mymensingh Range        0        0       0             0     0                         0           0               0         0      0            0              0               0               0               0           0            0\n",
            "84   2014  Chittagong Range      138      169     792           193     9                      4240         159             228       435    939        15503            490              53            6817             285        7645        30450\n",
            "85   2014      Sylhet Range       54       30     277            54    11                       745          27              41        93    354         5468             38               6            2026             202        2272         9426\n",
            "86   2014      Khulna Range       80      125     520           277    15                      2351          77              53       310    585        10247            381             152            2935            1766        5234        19874\n",
            "87   2014     Barisal Range       36       37     200            51     0                      1478          60               8       163    225         6892             36              19             813              31         899        10049\n",
            "88   2014    Rajshahi Range       55       73     463           138     0                      2359          81              26       137    500        10353            249              64            3969            2070        6352        20537\n",
            "89   2014     Rangpur Range       21       62     349            88     0                      2573          45              32       126    549        10181             62              11            1756            1332        3161        17187\n",
            "90   2014     Railway Range        1        8      33             3     0                         6           0               0         1     89          170             10               3             395             110         518          829\n",
            "91   2014               GMP        0        0       0             0     0                         0           0               0         0      0            0              0               0               0               0           0            0\n",
            "92   2014              RPMP        0        0       0             0     0                         0           0               0         0      0            0              0               0               0               0           0            0\n",
            "93   2014               ATU        0        0       0             0     0                         0           0               0         0      0            0              0               0               0               0           0            0\n",
            "94   2014             Total      651     1155    4514          1716    79                     21291         920             702      2809   7660        90400           2023             520           42501            6788       51832       183729\n",
            "95   2015               DMP       45      205     239           226    26                      1550         146             118       642   1711         5795            263             195            8365             201        9024        19727\n",
            "96   2015               CMP        5       61     105            67    25                       357          51              30       128    262         1497            101              40            2090              43        2274         4862\n",
            "97   2015               KMP        9       15      30            19     0                       146           7               3        49     95          574             21              13             659               2         695         1642\n",
            "98   2015               RMP        0       19      20            12     4                       131           8              18        39     66          463             23              30             733             179         965         1745\n",
            "99   2015               BMP        2       11      15             5     0                       110           4               8        33     50          371             17               0             557               2         576         1185\n",
            "100  2015               SMP       19       14      37            22     4                       139          10               8        25     89          819             11               5             183               8         207         1393\n",
            "101  2015       Dhaka Range      151      164    1239           563     0                      5042         204             118       472   1565        20501            365              68           12405             520       13358        43377\n",
            "102  2015  Mymensingh Range        0        0       0             0     0                         0           0               0         0      0            0              0               0               0               0           0            0\n",
            "103  2015  Chittagong Range      107      133     688           151    28                      3886          98             163       406    906        13618            498              59            8012             224        8793        28977\n",
            "104  2015      Sylhet Range       26       26     252            70     3                       943          33              43        76    326         5442             54              11            1575             211        1851         9091\n",
            "105  2015      Khulna Range       41      112     439           151     2                      2478          79              41       250    513         8972            330             119            3787            1217        5453        18531\n",
            "106  2015     Barisal Range       31       47     175            58     1                      1497          53              20       156    266         6767             26              22            1019              27        1094        10165\n",
            "107  2015    Rajshahi Range       37       66     446           159     0                      2339          70              40        72    441         9259            313             144            5797            2072        8326        21255\n",
            "108  2015     Rangpur Range       17       50     328            44     0                      2587          34              23       146    460         9898             53              10            1988            1355        3406        16993\n",
            "109  2015     Railway Range        2       10      24             2     0                         5           8               1         1     71          141              4               9             496             118         627          892\n",
            "110  2015               GMP        0        0       0             0     0                         0           0               0         0      0            0              0               0               0               0           0            0\n",
            "111  2015              RPMP        0        0       0             0     0                         0           0               0         0      0            0              0               0               0               0           0            0\n",
            "112  2015               ATU        0        0       0             0     0                         0           0               0         0      0            0              0               0               0               0           0            0\n",
            "113  2015             Total      492      933    4037          1549    93                     21210         805             634      2495   6821        84117           2079             725           47666            6179       56649       179835\n",
            "114  2016               DMP       23      131     165           217     1                      1651         103              72       547   1516         5407            244              88            9627             108       10067        19900\n",
            "115  2016               CMP        6       58      90            63    11                       344          30              16        88    196         1634            160               6            3457              31        3654         6190\n",
            "116  2016               KMP        6       11      36            19     0                       158          10               4        45     78          514             17               7             801               4         829         1710\n",
            "117  2016               RMP        5       18      15             5     5                       108          11              14        40     66          357             13              12            1114             173        1312         1956\n",
            "118  2016               BMP        6        7      16             8     0                       105           2               4        41     45          444             15               0             655               1         671         1349\n",
            "119  2016               SMP       20       26      38            15     5                       235          10              13        27     96          724             17               0             164               8         189         1398\n",
            "120  2016       Dhaka Range      118      127     881           162     1                      3703         139              99       347   1114        13859            356             110           11366             234       12066        32616\n",
            "121  2016  Mymensingh Range        4       15     221            97     0                       825          16              29        57    256         4893             36               8            3099             118        3261         9674\n",
            "122  2016  Chittagong Range       71      105     662           138    10                      2612         106              99       367    821        12461            561              35            8998             161        9755        27207\n",
            "123  2016      Sylhet Range       20       20     236            40    12                      1116          18              46        69    310         5051             45               8            1723             237        2013         8951\n",
            "124  2016      Khulna Range       47       80     370            88     7                      1892          65              54       220    446         9315            374             109            4879             649        6011        18595\n",
            "125  2016     Barisal Range       29       36     166            52     1                      1538          38              22       155    187         6130             58              12            1679              12        1761        10115\n",
            "126  2016    Rajshahi Range       30       49     383           115     0                      1974          60              17        75    477         8304            345              82            9703            1555       11685        23169\n",
            "127  2016     Rangpur Range       22       29     292            32     0                      2025          27              29       133    453         8523             45              10            4425            1278        5758        17323\n",
            "128  2016     Railway Range        1       10      20             1     0                       160           4               3         2     49          131              5               0             518             111         634         1015\n",
            "129  2016               GMP        0        0       0             0     0                         0           0               0         0      0            0              0               0               0               0           0            0\n",
            "130  2016              RPMP        0        0       0             0     0                         0           0               0         0      0            0              0               0               0               0           0            0\n",
            "131  2016               ATU        0        0       0             0     0                         0           0               0         0      0            0              0               0               0               0           0            0\n",
            "132  2016             Total      408      722    3591          1052    53                     18446         639             521      2213   6110        77747           2291             487           62208            4680       69666       181168\n",
            "133  2017               DMP       20      103     218           202     7                      1779          85             132       554   1197         5315            157             108           13638             115       14018        23630\n",
            "134  2017               CMP        2       71      70            80     0                       350           7              21        92    267         1547            231               2            4260              44        4537         7044\n",
            "135  2017               KMP        6        9      25            19     0                       248           4               6        35     50          443             25               4            1706              32        1767         2612\n",
            "136  2017               RMP        2       34       8            15     2                       120          17              14        33     50          485             18               9            2021             189        2237         3017\n",
            "137  2017               BMP        1        8      16             4     0                        89           7               4        32     46          388             11               1             921               4         937         1532\n",
            "138  2017               SMP        5       18      32            60     3                       120           6              12        25    101          669             13               0             301              15         329         1380\n",
            "139  2017       Dhaka Range       99      132     828           131     0                      3598         123              95       360    973        12787            290              43           19646             197       20176        39302\n",
            "140  2017  Mymensingh Range        8       16     248           107     0                      1071          26              18        74    355         5897             36               4            5398             178        5616        13436\n",
            "141  2017  Chittagong Range       64       74     626           114     0                      1889          77             112       360    786        11676            581              16           12555             190       13342        29120\n",
            "142  2017      Sylhet Range       31       31     303            30     2                       861          19              40       103    399         4638             49               7            2246             223        2525         8982\n",
            "143  2017      Khulna Range       33       51     338            62     9                      1960          45              26       152    420         8917            342              89            9764             813       11008        23021\n",
            "144  2017     Barisal Range       22       36     169            62     0                      1451          20              16       161    182         5763             59               8            3441               5        3513        11395\n",
            "145  2017    Rajshahi Range       36       38     368           132     0                      1763          43              28        79    470         7817            343              62           12237            1240       13882        24656\n",
            "146  2017     Rangpur Range        7       29     281            25     0                      1771          30              16       103    477         8203             50               8           10262            2218       12538        23480\n",
            "147  2017     Railway Range        0        7      19             2     0                         3           0               3         0     60          100              3               1             588             136         728          922\n",
            "148  2017               GMP        0        0       0             0     0                         0           0               0         0      0            0              0               0               0               0           0            0\n",
            "149  2017              RPMP        0        0       0             0     0                         0           0               0         0      0            0              0               0               0               0           0            0\n",
            "150  2017               ATU        0        0       0             0     0                         0           0               0         0      0            0              0               0               0               0           0            0\n",
            "151  2017             Total      336      657    3549          1045    23                     17073         509             543      2163   5833        74645           2208             362           98984            5599      107153       213529\n",
            "152  2018               DMP       17       83     216           216    17                      1782          75             236       613   1290         5708            155             354           16215             173       16897        27150\n",
            "153  2018               CMP        6       65      75           100     0                       405          11              34        74    208         1446            365             136            4747              59        5307         7731\n",
            "154  2018               KMP        2        6      19            18     0                       145           3               3        32     63          385             24               1            1858              45        1928         2604\n",
            "155  2018               RMP        0       27      22            14     3                       177          17              12        45     64          597             35              19            2847             368        3269         4247\n",
            "156  2018               BMP        3        8      17             6     0                       101           6               6        44     42          441             16               1            1088               0        1105         1779\n",
            "157  2018               SMP        8       12      33            44     0                       159           1              39        32     85          731             16               2             520              34         572         1716\n",
            "158  2018       Dhaka Range       71       96     854           105     0                      3014          82             122       304    931        11830            292              65           22682             155       23194        40603\n",
            "159  2018  Mymensingh Range        5       10     265            54     1                      1056          20              23        66    301         5294             53             139            6329             100        6621        13716\n",
            "160  2018  Chittagong Range       44       84     728           110     1                      1915          93             151       325    701        11445            723             122           13338             145       14328        29925\n",
            "161  2018      Sylhet Range       25       18     272            19     1                       885          13              94        84    390         4648             62              19            2438             194        2713         9162\n",
            "162  2018      Khulna Range       26       54     392            27     3                      1530          29              14       190    403         7402            369             207           10076             531       11183        21253\n",
            "163  2018     Barisal Range       20       24     166            55     0                      1321          20              20       132    205         4975             54              56            4384               2        4496        11434\n",
            "164  2018    Rajshahi Range       21       53     408           126     0                      1786          46              27        95    392         6979            257             116           13764            1538       15675        25608\n",
            "165  2018     Rangpur Range       13       13     307            19     0                      1908          16              18        91    372         7474             72              57           10921             997       12047        22278\n",
            "166  2018     Railway Range        0        4      27             3     0                         4           1               5         0     65          108              2               0             611             159         772          989\n",
            "167  2018               GMP        0        4      26             4     0                        46           3               5         7     32          183             18              15             528               1         562          872\n",
            "168  2018              RPMP        1        1       3             2     0                        19           8               2         3     17           90              2               1             203               0         206          352\n",
            "169  2018               ATU        0        0       0             0     0                         0           0               0         0      0            0              0               0               0               0           0            0\n",
            "170  2018             Total      262      562    3830           922    26                     16253         444             811      2137   5561        69736           2515            1310          112549            4501      120875       221419\n",
            "171  2019               DMP        1       10      19            10     0                       118           9               6        49    127          411              6               3            1370              14        1393         2153\n",
            "172  2019               CMP        0        3       9             5     0                        22           0               5         6     15          125             38               0             449               1         488          678\n",
            "173  2019               KMP        1        0       4             1     0                         8           0               0         6      4           16              2               0             272               3         277          317\n",
            "174  2019               RMP        0        4       1             1     1                        11           0               0         4      6           52              3               0             283              35         321          401\n",
            "175  2019               BMP        0        0       0             0     0                        14           1               0         4      6           49              1               0              91               0          92          166\n",
            "176  2019               SMP        0        2       5             3     0                        15           0              13         2      2           55              0               0              44               2          46          143\n",
            "177  2019       Dhaka Range        7       11      75            10     0                       216          12              13        28     70          889             18               3            1731               6        1758         3089\n",
            "178  2019  Mymensingh Range        1        1      23             1     0                        87           2               6         5     24          405              5               2             435               7         449         1004\n",
            "179  2019  Chittagong Range        4       11      74             4     0                       147           6              10        25     51          891             54               1            1108              10        1173         2396\n",
            "180  2019      Sylhet Range        4        5      20             4     0                        67           1               8         7     33          412              1               3             139              21         164          725\n",
            "181  2019      Khulna Range        4        4      37             0     0                        99           2               2         7     36          544             13               3             814              20         850         1585\n",
            "182  2019     Barisal Range        2        3      16             2     0                        86           3               2        16     23          378              1               0             363               0         364          895\n",
            "183  2019    Rajshahi Range        5        8      29             6     0                        99           8               2         5     40          469             25              15            1166             134        1340         2011\n",
            "184  2019     Rangpur Range        1        2      33             0     0                       116           0               0         8     38          625              4               0             551              94         649         1472\n",
            "185  2019     Railway Range        0        1       2             0     0                         0           0               0         0      5            9              0               0              55              12          67           84\n",
            "186  2019               GMP        2        3       3             1     0                        22           1               2         2      8           65              3               0             130               2         135          244\n",
            "187  2019              RPMP        0        0       1             0     0                        12           1               0         0      6           33              0               0              68               0          68          121\n",
            "188  2019               ATU        0        0       0             0     0                         0           0               0         0      0            0              0               0               0               0           0            0\n",
            "189  2019             Total       32       68     351            48     1                      1139          46              69       174    494         5428            174              30            9069             361        9634        17484\n"
          ]
        }
      ]
    },
    {
      "cell_type": "markdown",
      "source": [
        "Data Cleaning\n",
        "\n",
        " Mathod - Delete Rows & Columns\n"
      ],
      "metadata": {
        "id": "2ie13hjQy34N"
      }
    },
    {
      "cell_type": "code",
      "source": [
        "df.shape"
      ],
      "metadata": {
        "colab": {
          "base_uri": "https://localhost:8080/"
        },
        "id": "UOslrm4jv3R2",
        "outputId": "e26082a2-445d-4a4d-c97f-d7e653a95a68"
      },
      "execution_count": 46,
      "outputs": [
        {
          "output_type": "execute_result",
          "data": {
            "text/plain": [
              "(190, 19)"
            ]
          },
          "metadata": {},
          "execution_count": 46
        }
      ]
    },
    {
      "cell_type": "code",
      "source": [
        "df.head(6)"
      ],
      "metadata": {
        "colab": {
          "base_uri": "https://localhost:8080/",
          "height": 238
        },
        "id": "h31k_3hCz7VE",
        "outputId": "20bc45ef-48ff-49f2-a4d0-e5d783725ce6"
      },
      "execution_count": 47,
      "outputs": [
        {
          "output_type": "execute_result",
          "data": {
            "text/plain": [
              "   Year Unit Name  Dacoity  Robbery  Murder  Speedy Trial  Riot  \\\n",
              "0  2010       DMP       47      220     245           363     3   \n",
              "1  2010       CMP       16      108      94            31     7   \n",
              "2  2010       KMP        3        9      29            25     0   \n",
              "3  2010       RMP        4       20      21             9    15   \n",
              "4  2010       BMP        8       12      19            21     0   \n",
              "5  2010       SMP       12       33      33            34     1   \n",
              "\n",
              "   Woman & Child Repression  Kidnapping  Police Assault  Burglary  Theft  \\\n",
              "0                      1370         139             155       555   1915   \n",
              "1                       455          37              31       123    314   \n",
              "2                       153          11               4        65     91   \n",
              "3                       157           9              12        53    106   \n",
              "4                       112           6               8        24     83   \n",
              "5                       104          14              12        33    154   \n",
              "\n",
              "   Other Cases  Arms Act - RC  Explosive - RC  Narcotics - RC  Smuggling - RC  \\\n",
              "0         7228            518              82           10535             144   \n",
              "1         1831             51               0             866              99   \n",
              "2          551             19               2             792              13   \n",
              "3          578              3               4             332             248   \n",
              "4          557             17               0             155             117   \n",
              "5          866             14               0             154              20   \n",
              "\n",
              "   Total - RC  Total Cases  \n",
              "0       11279        23519  \n",
              "1        1016         4063  \n",
              "2         826         1767  \n",
              "3         587         1571  \n",
              "4         289         1139  \n",
              "5         188         1484  "
            ],
            "text/html": [
              "\n",
              "  <div id=\"df-a22df2ea-1cb9-4663-92df-1a8709a0de80\">\n",
              "    <div class=\"colab-df-container\">\n",
              "      <div>\n",
              "<style scoped>\n",
              "    .dataframe tbody tr th:only-of-type {\n",
              "        vertical-align: middle;\n",
              "    }\n",
              "\n",
              "    .dataframe tbody tr th {\n",
              "        vertical-align: top;\n",
              "    }\n",
              "\n",
              "    .dataframe thead th {\n",
              "        text-align: right;\n",
              "    }\n",
              "</style>\n",
              "<table border=\"1\" class=\"dataframe\">\n",
              "  <thead>\n",
              "    <tr style=\"text-align: right;\">\n",
              "      <th></th>\n",
              "      <th>Year</th>\n",
              "      <th>Unit Name</th>\n",
              "      <th>Dacoity</th>\n",
              "      <th>Robbery</th>\n",
              "      <th>Murder</th>\n",
              "      <th>Speedy Trial</th>\n",
              "      <th>Riot</th>\n",
              "      <th>Woman &amp; Child Repression</th>\n",
              "      <th>Kidnapping</th>\n",
              "      <th>Police Assault</th>\n",
              "      <th>Burglary</th>\n",
              "      <th>Theft</th>\n",
              "      <th>Other Cases</th>\n",
              "      <th>Arms Act - RC</th>\n",
              "      <th>Explosive - RC</th>\n",
              "      <th>Narcotics - RC</th>\n",
              "      <th>Smuggling - RC</th>\n",
              "      <th>Total - RC</th>\n",
              "      <th>Total Cases</th>\n",
              "    </tr>\n",
              "  </thead>\n",
              "  <tbody>\n",
              "    <tr>\n",
              "      <th>0</th>\n",
              "      <td>2010</td>\n",
              "      <td>DMP</td>\n",
              "      <td>47</td>\n",
              "      <td>220</td>\n",
              "      <td>245</td>\n",
              "      <td>363</td>\n",
              "      <td>3</td>\n",
              "      <td>1370</td>\n",
              "      <td>139</td>\n",
              "      <td>155</td>\n",
              "      <td>555</td>\n",
              "      <td>1915</td>\n",
              "      <td>7228</td>\n",
              "      <td>518</td>\n",
              "      <td>82</td>\n",
              "      <td>10535</td>\n",
              "      <td>144</td>\n",
              "      <td>11279</td>\n",
              "      <td>23519</td>\n",
              "    </tr>\n",
              "    <tr>\n",
              "      <th>1</th>\n",
              "      <td>2010</td>\n",
              "      <td>CMP</td>\n",
              "      <td>16</td>\n",
              "      <td>108</td>\n",
              "      <td>94</td>\n",
              "      <td>31</td>\n",
              "      <td>7</td>\n",
              "      <td>455</td>\n",
              "      <td>37</td>\n",
              "      <td>31</td>\n",
              "      <td>123</td>\n",
              "      <td>314</td>\n",
              "      <td>1831</td>\n",
              "      <td>51</td>\n",
              "      <td>0</td>\n",
              "      <td>866</td>\n",
              "      <td>99</td>\n",
              "      <td>1016</td>\n",
              "      <td>4063</td>\n",
              "    </tr>\n",
              "    <tr>\n",
              "      <th>2</th>\n",
              "      <td>2010</td>\n",
              "      <td>KMP</td>\n",
              "      <td>3</td>\n",
              "      <td>9</td>\n",
              "      <td>29</td>\n",
              "      <td>25</td>\n",
              "      <td>0</td>\n",
              "      <td>153</td>\n",
              "      <td>11</td>\n",
              "      <td>4</td>\n",
              "      <td>65</td>\n",
              "      <td>91</td>\n",
              "      <td>551</td>\n",
              "      <td>19</td>\n",
              "      <td>2</td>\n",
              "      <td>792</td>\n",
              "      <td>13</td>\n",
              "      <td>826</td>\n",
              "      <td>1767</td>\n",
              "    </tr>\n",
              "    <tr>\n",
              "      <th>3</th>\n",
              "      <td>2010</td>\n",
              "      <td>RMP</td>\n",
              "      <td>4</td>\n",
              "      <td>20</td>\n",
              "      <td>21</td>\n",
              "      <td>9</td>\n",
              "      <td>15</td>\n",
              "      <td>157</td>\n",
              "      <td>9</td>\n",
              "      <td>12</td>\n",
              "      <td>53</td>\n",
              "      <td>106</td>\n",
              "      <td>578</td>\n",
              "      <td>3</td>\n",
              "      <td>4</td>\n",
              "      <td>332</td>\n",
              "      <td>248</td>\n",
              "      <td>587</td>\n",
              "      <td>1571</td>\n",
              "    </tr>\n",
              "    <tr>\n",
              "      <th>4</th>\n",
              "      <td>2010</td>\n",
              "      <td>BMP</td>\n",
              "      <td>8</td>\n",
              "      <td>12</td>\n",
              "      <td>19</td>\n",
              "      <td>21</td>\n",
              "      <td>0</td>\n",
              "      <td>112</td>\n",
              "      <td>6</td>\n",
              "      <td>8</td>\n",
              "      <td>24</td>\n",
              "      <td>83</td>\n",
              "      <td>557</td>\n",
              "      <td>17</td>\n",
              "      <td>0</td>\n",
              "      <td>155</td>\n",
              "      <td>117</td>\n",
              "      <td>289</td>\n",
              "      <td>1139</td>\n",
              "    </tr>\n",
              "    <tr>\n",
              "      <th>5</th>\n",
              "      <td>2010</td>\n",
              "      <td>SMP</td>\n",
              "      <td>12</td>\n",
              "      <td>33</td>\n",
              "      <td>33</td>\n",
              "      <td>34</td>\n",
              "      <td>1</td>\n",
              "      <td>104</td>\n",
              "      <td>14</td>\n",
              "      <td>12</td>\n",
              "      <td>33</td>\n",
              "      <td>154</td>\n",
              "      <td>866</td>\n",
              "      <td>14</td>\n",
              "      <td>0</td>\n",
              "      <td>154</td>\n",
              "      <td>20</td>\n",
              "      <td>188</td>\n",
              "      <td>1484</td>\n",
              "    </tr>\n",
              "  </tbody>\n",
              "</table>\n",
              "</div>\n",
              "      <button class=\"colab-df-convert\" onclick=\"convertToInteractive('df-a22df2ea-1cb9-4663-92df-1a8709a0de80')\"\n",
              "              title=\"Convert this dataframe to an interactive table.\"\n",
              "              style=\"display:none;\">\n",
              "        \n",
              "  <svg xmlns=\"http://www.w3.org/2000/svg\" height=\"24px\"viewBox=\"0 0 24 24\"\n",
              "       width=\"24px\">\n",
              "    <path d=\"M0 0h24v24H0V0z\" fill=\"none\"/>\n",
              "    <path d=\"M18.56 5.44l.94 2.06.94-2.06 2.06-.94-2.06-.94-.94-2.06-.94 2.06-2.06.94zm-11 1L8.5 8.5l.94-2.06 2.06-.94-2.06-.94L8.5 2.5l-.94 2.06-2.06.94zm10 10l.94 2.06.94-2.06 2.06-.94-2.06-.94-.94-2.06-.94 2.06-2.06.94z\"/><path d=\"M17.41 7.96l-1.37-1.37c-.4-.4-.92-.59-1.43-.59-.52 0-1.04.2-1.43.59L10.3 9.45l-7.72 7.72c-.78.78-.78 2.05 0 2.83L4 21.41c.39.39.9.59 1.41.59.51 0 1.02-.2 1.41-.59l7.78-7.78 2.81-2.81c.8-.78.8-2.07 0-2.86zM5.41 20L4 18.59l7.72-7.72 1.47 1.35L5.41 20z\"/>\n",
              "  </svg>\n",
              "      </button>\n",
              "      \n",
              "  <style>\n",
              "    .colab-df-container {\n",
              "      display:flex;\n",
              "      flex-wrap:wrap;\n",
              "      gap: 12px;\n",
              "    }\n",
              "\n",
              "    .colab-df-convert {\n",
              "      background-color: #E8F0FE;\n",
              "      border: none;\n",
              "      border-radius: 50%;\n",
              "      cursor: pointer;\n",
              "      display: none;\n",
              "      fill: #1967D2;\n",
              "      height: 32px;\n",
              "      padding: 0 0 0 0;\n",
              "      width: 32px;\n",
              "    }\n",
              "\n",
              "    .colab-df-convert:hover {\n",
              "      background-color: #E2EBFA;\n",
              "      box-shadow: 0px 1px 2px rgba(60, 64, 67, 0.3), 0px 1px 3px 1px rgba(60, 64, 67, 0.15);\n",
              "      fill: #174EA6;\n",
              "    }\n",
              "\n",
              "    [theme=dark] .colab-df-convert {\n",
              "      background-color: #3B4455;\n",
              "      fill: #D2E3FC;\n",
              "    }\n",
              "\n",
              "    [theme=dark] .colab-df-convert:hover {\n",
              "      background-color: #434B5C;\n",
              "      box-shadow: 0px 1px 3px 1px rgba(0, 0, 0, 0.15);\n",
              "      filter: drop-shadow(0px 1px 2px rgba(0, 0, 0, 0.3));\n",
              "      fill: #FFFFFF;\n",
              "    }\n",
              "  </style>\n",
              "\n",
              "      <script>\n",
              "        const buttonEl =\n",
              "          document.querySelector('#df-a22df2ea-1cb9-4663-92df-1a8709a0de80 button.colab-df-convert');\n",
              "        buttonEl.style.display =\n",
              "          google.colab.kernel.accessAllowed ? 'block' : 'none';\n",
              "\n",
              "        async function convertToInteractive(key) {\n",
              "          const element = document.querySelector('#df-a22df2ea-1cb9-4663-92df-1a8709a0de80');\n",
              "          const dataTable =\n",
              "            await google.colab.kernel.invokeFunction('convertToInteractive',\n",
              "                                                     [key], {});\n",
              "          if (!dataTable) return;\n",
              "\n",
              "          const docLinkHtml = 'Like what you see? Visit the ' +\n",
              "            '<a target=\"_blank\" href=https://colab.research.google.com/notebooks/data_table.ipynb>data table notebook</a>'\n",
              "            + ' to learn more about interactive tables.';\n",
              "          element.innerHTML = '';\n",
              "          dataTable['output_type'] = 'display_data';\n",
              "          await google.colab.output.renderOutput(dataTable, element);\n",
              "          const docLink = document.createElement('div');\n",
              "          docLink.innerHTML = docLinkHtml;\n",
              "          element.appendChild(docLink);\n",
              "        }\n",
              "      </script>\n",
              "    </div>\n",
              "  </div>\n",
              "  "
            ]
          },
          "metadata": {},
          "execution_count": 47
        }
      ]
    },
    {
      "cell_type": "code",
      "source": [
        "pd.set_option('display.max_columns', None)\n",
        "pd.set_option('display.max_rows', None)"
      ],
      "metadata": {
        "id": "A7E09aCV0JQK"
      },
      "execution_count": 48,
      "outputs": []
    },
    {
      "cell_type": "code",
      "source": [
        "df.head(6)"
      ],
      "metadata": {
        "colab": {
          "base_uri": "https://localhost:8080/",
          "height": 238
        },
        "id": "mEyybX3R0ysm",
        "outputId": "ab91587a-a74b-4813-e7a5-c7b881ff18d9"
      },
      "execution_count": 49,
      "outputs": [
        {
          "output_type": "execute_result",
          "data": {
            "text/plain": [
              "   Year Unit Name  Dacoity  Robbery  Murder  Speedy Trial  Riot  \\\n",
              "0  2010       DMP       47      220     245           363     3   \n",
              "1  2010       CMP       16      108      94            31     7   \n",
              "2  2010       KMP        3        9      29            25     0   \n",
              "3  2010       RMP        4       20      21             9    15   \n",
              "4  2010       BMP        8       12      19            21     0   \n",
              "5  2010       SMP       12       33      33            34     1   \n",
              "\n",
              "   Woman & Child Repression  Kidnapping  Police Assault  Burglary  Theft  \\\n",
              "0                      1370         139             155       555   1915   \n",
              "1                       455          37              31       123    314   \n",
              "2                       153          11               4        65     91   \n",
              "3                       157           9              12        53    106   \n",
              "4                       112           6               8        24     83   \n",
              "5                       104          14              12        33    154   \n",
              "\n",
              "   Other Cases  Arms Act - RC  Explosive - RC  Narcotics - RC  Smuggling - RC  \\\n",
              "0         7228            518              82           10535             144   \n",
              "1         1831             51               0             866              99   \n",
              "2          551             19               2             792              13   \n",
              "3          578              3               4             332             248   \n",
              "4          557             17               0             155             117   \n",
              "5          866             14               0             154              20   \n",
              "\n",
              "   Total - RC  Total Cases  \n",
              "0       11279        23519  \n",
              "1        1016         4063  \n",
              "2         826         1767  \n",
              "3         587         1571  \n",
              "4         289         1139  \n",
              "5         188         1484  "
            ],
            "text/html": [
              "\n",
              "  <div id=\"df-315f5f29-5aac-4949-bd20-1b3a65d69775\">\n",
              "    <div class=\"colab-df-container\">\n",
              "      <div>\n",
              "<style scoped>\n",
              "    .dataframe tbody tr th:only-of-type {\n",
              "        vertical-align: middle;\n",
              "    }\n",
              "\n",
              "    .dataframe tbody tr th {\n",
              "        vertical-align: top;\n",
              "    }\n",
              "\n",
              "    .dataframe thead th {\n",
              "        text-align: right;\n",
              "    }\n",
              "</style>\n",
              "<table border=\"1\" class=\"dataframe\">\n",
              "  <thead>\n",
              "    <tr style=\"text-align: right;\">\n",
              "      <th></th>\n",
              "      <th>Year</th>\n",
              "      <th>Unit Name</th>\n",
              "      <th>Dacoity</th>\n",
              "      <th>Robbery</th>\n",
              "      <th>Murder</th>\n",
              "      <th>Speedy Trial</th>\n",
              "      <th>Riot</th>\n",
              "      <th>Woman &amp; Child Repression</th>\n",
              "      <th>Kidnapping</th>\n",
              "      <th>Police Assault</th>\n",
              "      <th>Burglary</th>\n",
              "      <th>Theft</th>\n",
              "      <th>Other Cases</th>\n",
              "      <th>Arms Act - RC</th>\n",
              "      <th>Explosive - RC</th>\n",
              "      <th>Narcotics - RC</th>\n",
              "      <th>Smuggling - RC</th>\n",
              "      <th>Total - RC</th>\n",
              "      <th>Total Cases</th>\n",
              "    </tr>\n",
              "  </thead>\n",
              "  <tbody>\n",
              "    <tr>\n",
              "      <th>0</th>\n",
              "      <td>2010</td>\n",
              "      <td>DMP</td>\n",
              "      <td>47</td>\n",
              "      <td>220</td>\n",
              "      <td>245</td>\n",
              "      <td>363</td>\n",
              "      <td>3</td>\n",
              "      <td>1370</td>\n",
              "      <td>139</td>\n",
              "      <td>155</td>\n",
              "      <td>555</td>\n",
              "      <td>1915</td>\n",
              "      <td>7228</td>\n",
              "      <td>518</td>\n",
              "      <td>82</td>\n",
              "      <td>10535</td>\n",
              "      <td>144</td>\n",
              "      <td>11279</td>\n",
              "      <td>23519</td>\n",
              "    </tr>\n",
              "    <tr>\n",
              "      <th>1</th>\n",
              "      <td>2010</td>\n",
              "      <td>CMP</td>\n",
              "      <td>16</td>\n",
              "      <td>108</td>\n",
              "      <td>94</td>\n",
              "      <td>31</td>\n",
              "      <td>7</td>\n",
              "      <td>455</td>\n",
              "      <td>37</td>\n",
              "      <td>31</td>\n",
              "      <td>123</td>\n",
              "      <td>314</td>\n",
              "      <td>1831</td>\n",
              "      <td>51</td>\n",
              "      <td>0</td>\n",
              "      <td>866</td>\n",
              "      <td>99</td>\n",
              "      <td>1016</td>\n",
              "      <td>4063</td>\n",
              "    </tr>\n",
              "    <tr>\n",
              "      <th>2</th>\n",
              "      <td>2010</td>\n",
              "      <td>KMP</td>\n",
              "      <td>3</td>\n",
              "      <td>9</td>\n",
              "      <td>29</td>\n",
              "      <td>25</td>\n",
              "      <td>0</td>\n",
              "      <td>153</td>\n",
              "      <td>11</td>\n",
              "      <td>4</td>\n",
              "      <td>65</td>\n",
              "      <td>91</td>\n",
              "      <td>551</td>\n",
              "      <td>19</td>\n",
              "      <td>2</td>\n",
              "      <td>792</td>\n",
              "      <td>13</td>\n",
              "      <td>826</td>\n",
              "      <td>1767</td>\n",
              "    </tr>\n",
              "    <tr>\n",
              "      <th>3</th>\n",
              "      <td>2010</td>\n",
              "      <td>RMP</td>\n",
              "      <td>4</td>\n",
              "      <td>20</td>\n",
              "      <td>21</td>\n",
              "      <td>9</td>\n",
              "      <td>15</td>\n",
              "      <td>157</td>\n",
              "      <td>9</td>\n",
              "      <td>12</td>\n",
              "      <td>53</td>\n",
              "      <td>106</td>\n",
              "      <td>578</td>\n",
              "      <td>3</td>\n",
              "      <td>4</td>\n",
              "      <td>332</td>\n",
              "      <td>248</td>\n",
              "      <td>587</td>\n",
              "      <td>1571</td>\n",
              "    </tr>\n",
              "    <tr>\n",
              "      <th>4</th>\n",
              "      <td>2010</td>\n",
              "      <td>BMP</td>\n",
              "      <td>8</td>\n",
              "      <td>12</td>\n",
              "      <td>19</td>\n",
              "      <td>21</td>\n",
              "      <td>0</td>\n",
              "      <td>112</td>\n",
              "      <td>6</td>\n",
              "      <td>8</td>\n",
              "      <td>24</td>\n",
              "      <td>83</td>\n",
              "      <td>557</td>\n",
              "      <td>17</td>\n",
              "      <td>0</td>\n",
              "      <td>155</td>\n",
              "      <td>117</td>\n",
              "      <td>289</td>\n",
              "      <td>1139</td>\n",
              "    </tr>\n",
              "    <tr>\n",
              "      <th>5</th>\n",
              "      <td>2010</td>\n",
              "      <td>SMP</td>\n",
              "      <td>12</td>\n",
              "      <td>33</td>\n",
              "      <td>33</td>\n",
              "      <td>34</td>\n",
              "      <td>1</td>\n",
              "      <td>104</td>\n",
              "      <td>14</td>\n",
              "      <td>12</td>\n",
              "      <td>33</td>\n",
              "      <td>154</td>\n",
              "      <td>866</td>\n",
              "      <td>14</td>\n",
              "      <td>0</td>\n",
              "      <td>154</td>\n",
              "      <td>20</td>\n",
              "      <td>188</td>\n",
              "      <td>1484</td>\n",
              "    </tr>\n",
              "  </tbody>\n",
              "</table>\n",
              "</div>\n",
              "      <button class=\"colab-df-convert\" onclick=\"convertToInteractive('df-315f5f29-5aac-4949-bd20-1b3a65d69775')\"\n",
              "              title=\"Convert this dataframe to an interactive table.\"\n",
              "              style=\"display:none;\">\n",
              "        \n",
              "  <svg xmlns=\"http://www.w3.org/2000/svg\" height=\"24px\"viewBox=\"0 0 24 24\"\n",
              "       width=\"24px\">\n",
              "    <path d=\"M0 0h24v24H0V0z\" fill=\"none\"/>\n",
              "    <path d=\"M18.56 5.44l.94 2.06.94-2.06 2.06-.94-2.06-.94-.94-2.06-.94 2.06-2.06.94zm-11 1L8.5 8.5l.94-2.06 2.06-.94-2.06-.94L8.5 2.5l-.94 2.06-2.06.94zm10 10l.94 2.06.94-2.06 2.06-.94-2.06-.94-.94-2.06-.94 2.06-2.06.94z\"/><path d=\"M17.41 7.96l-1.37-1.37c-.4-.4-.92-.59-1.43-.59-.52 0-1.04.2-1.43.59L10.3 9.45l-7.72 7.72c-.78.78-.78 2.05 0 2.83L4 21.41c.39.39.9.59 1.41.59.51 0 1.02-.2 1.41-.59l7.78-7.78 2.81-2.81c.8-.78.8-2.07 0-2.86zM5.41 20L4 18.59l7.72-7.72 1.47 1.35L5.41 20z\"/>\n",
              "  </svg>\n",
              "      </button>\n",
              "      \n",
              "  <style>\n",
              "    .colab-df-container {\n",
              "      display:flex;\n",
              "      flex-wrap:wrap;\n",
              "      gap: 12px;\n",
              "    }\n",
              "\n",
              "    .colab-df-convert {\n",
              "      background-color: #E8F0FE;\n",
              "      border: none;\n",
              "      border-radius: 50%;\n",
              "      cursor: pointer;\n",
              "      display: none;\n",
              "      fill: #1967D2;\n",
              "      height: 32px;\n",
              "      padding: 0 0 0 0;\n",
              "      width: 32px;\n",
              "    }\n",
              "\n",
              "    .colab-df-convert:hover {\n",
              "      background-color: #E2EBFA;\n",
              "      box-shadow: 0px 1px 2px rgba(60, 64, 67, 0.3), 0px 1px 3px 1px rgba(60, 64, 67, 0.15);\n",
              "      fill: #174EA6;\n",
              "    }\n",
              "\n",
              "    [theme=dark] .colab-df-convert {\n",
              "      background-color: #3B4455;\n",
              "      fill: #D2E3FC;\n",
              "    }\n",
              "\n",
              "    [theme=dark] .colab-df-convert:hover {\n",
              "      background-color: #434B5C;\n",
              "      box-shadow: 0px 1px 3px 1px rgba(0, 0, 0, 0.15);\n",
              "      filter: drop-shadow(0px 1px 2px rgba(0, 0, 0, 0.3));\n",
              "      fill: #FFFFFF;\n",
              "    }\n",
              "  </style>\n",
              "\n",
              "      <script>\n",
              "        const buttonEl =\n",
              "          document.querySelector('#df-315f5f29-5aac-4949-bd20-1b3a65d69775 button.colab-df-convert');\n",
              "        buttonEl.style.display =\n",
              "          google.colab.kernel.accessAllowed ? 'block' : 'none';\n",
              "\n",
              "        async function convertToInteractive(key) {\n",
              "          const element = document.querySelector('#df-315f5f29-5aac-4949-bd20-1b3a65d69775');\n",
              "          const dataTable =\n",
              "            await google.colab.kernel.invokeFunction('convertToInteractive',\n",
              "                                                     [key], {});\n",
              "          if (!dataTable) return;\n",
              "\n",
              "          const docLinkHtml = 'Like what you see? Visit the ' +\n",
              "            '<a target=\"_blank\" href=https://colab.research.google.com/notebooks/data_table.ipynb>data table notebook</a>'\n",
              "            + ' to learn more about interactive tables.';\n",
              "          element.innerHTML = '';\n",
              "          dataTable['output_type'] = 'display_data';\n",
              "          await google.colab.output.renderOutput(dataTable, element);\n",
              "          const docLink = document.createElement('div');\n",
              "          docLink.innerHTML = docLinkHtml;\n",
              "          element.appendChild(docLink);\n",
              "        }\n",
              "      </script>\n",
              "    </div>\n",
              "  </div>\n",
              "  "
            ]
          },
          "metadata": {},
          "execution_count": 49
        }
      ]
    },
    {
      "cell_type": "code",
      "source": [
        "df.tail(6)"
      ],
      "metadata": {
        "colab": {
          "base_uri": "https://localhost:8080/",
          "height": 238
        },
        "id": "89vlevRD01U7",
        "outputId": "d30fa368-10d2-4afb-8233-78a31efc1f34"
      },
      "execution_count": 50,
      "outputs": [
        {
          "output_type": "execute_result",
          "data": {
            "text/plain": [
              "     Year      Unit Name  Dacoity  Robbery  Murder  Speedy Trial  Riot  \\\n",
              "184  2019  Rangpur Range        1        2      33             0     0   \n",
              "185  2019  Railway Range        0        1       2             0     0   \n",
              "186  2019            GMP        2        3       3             1     0   \n",
              "187  2019           RPMP        0        0       1             0     0   \n",
              "188  2019            ATU        0        0       0             0     0   \n",
              "189  2019          Total       32       68     351            48     1   \n",
              "\n",
              "     Woman & Child Repression  Kidnapping  Police Assault  Burglary  Theft  \\\n",
              "184                       116           0               0         8     38   \n",
              "185                         0           0               0         0      5   \n",
              "186                        22           1               2         2      8   \n",
              "187                        12           1               0         0      6   \n",
              "188                         0           0               0         0      0   \n",
              "189                      1139          46              69       174    494   \n",
              "\n",
              "     Other Cases  Arms Act - RC  Explosive - RC  Narcotics - RC  \\\n",
              "184          625              4               0             551   \n",
              "185            9              0               0              55   \n",
              "186           65              3               0             130   \n",
              "187           33              0               0              68   \n",
              "188            0              0               0               0   \n",
              "189         5428            174              30            9069   \n",
              "\n",
              "     Smuggling - RC  Total - RC  Total Cases  \n",
              "184              94         649         1472  \n",
              "185              12          67           84  \n",
              "186               2         135          244  \n",
              "187               0          68          121  \n",
              "188               0           0            0  \n",
              "189             361        9634        17484  "
            ],
            "text/html": [
              "\n",
              "  <div id=\"df-ae332878-04cc-4760-8949-cd88ff4d9947\">\n",
              "    <div class=\"colab-df-container\">\n",
              "      <div>\n",
              "<style scoped>\n",
              "    .dataframe tbody tr th:only-of-type {\n",
              "        vertical-align: middle;\n",
              "    }\n",
              "\n",
              "    .dataframe tbody tr th {\n",
              "        vertical-align: top;\n",
              "    }\n",
              "\n",
              "    .dataframe thead th {\n",
              "        text-align: right;\n",
              "    }\n",
              "</style>\n",
              "<table border=\"1\" class=\"dataframe\">\n",
              "  <thead>\n",
              "    <tr style=\"text-align: right;\">\n",
              "      <th></th>\n",
              "      <th>Year</th>\n",
              "      <th>Unit Name</th>\n",
              "      <th>Dacoity</th>\n",
              "      <th>Robbery</th>\n",
              "      <th>Murder</th>\n",
              "      <th>Speedy Trial</th>\n",
              "      <th>Riot</th>\n",
              "      <th>Woman &amp; Child Repression</th>\n",
              "      <th>Kidnapping</th>\n",
              "      <th>Police Assault</th>\n",
              "      <th>Burglary</th>\n",
              "      <th>Theft</th>\n",
              "      <th>Other Cases</th>\n",
              "      <th>Arms Act - RC</th>\n",
              "      <th>Explosive - RC</th>\n",
              "      <th>Narcotics - RC</th>\n",
              "      <th>Smuggling - RC</th>\n",
              "      <th>Total - RC</th>\n",
              "      <th>Total Cases</th>\n",
              "    </tr>\n",
              "  </thead>\n",
              "  <tbody>\n",
              "    <tr>\n",
              "      <th>184</th>\n",
              "      <td>2019</td>\n",
              "      <td>Rangpur Range</td>\n",
              "      <td>1</td>\n",
              "      <td>2</td>\n",
              "      <td>33</td>\n",
              "      <td>0</td>\n",
              "      <td>0</td>\n",
              "      <td>116</td>\n",
              "      <td>0</td>\n",
              "      <td>0</td>\n",
              "      <td>8</td>\n",
              "      <td>38</td>\n",
              "      <td>625</td>\n",
              "      <td>4</td>\n",
              "      <td>0</td>\n",
              "      <td>551</td>\n",
              "      <td>94</td>\n",
              "      <td>649</td>\n",
              "      <td>1472</td>\n",
              "    </tr>\n",
              "    <tr>\n",
              "      <th>185</th>\n",
              "      <td>2019</td>\n",
              "      <td>Railway Range</td>\n",
              "      <td>0</td>\n",
              "      <td>1</td>\n",
              "      <td>2</td>\n",
              "      <td>0</td>\n",
              "      <td>0</td>\n",
              "      <td>0</td>\n",
              "      <td>0</td>\n",
              "      <td>0</td>\n",
              "      <td>0</td>\n",
              "      <td>5</td>\n",
              "      <td>9</td>\n",
              "      <td>0</td>\n",
              "      <td>0</td>\n",
              "      <td>55</td>\n",
              "      <td>12</td>\n",
              "      <td>67</td>\n",
              "      <td>84</td>\n",
              "    </tr>\n",
              "    <tr>\n",
              "      <th>186</th>\n",
              "      <td>2019</td>\n",
              "      <td>GMP</td>\n",
              "      <td>2</td>\n",
              "      <td>3</td>\n",
              "      <td>3</td>\n",
              "      <td>1</td>\n",
              "      <td>0</td>\n",
              "      <td>22</td>\n",
              "      <td>1</td>\n",
              "      <td>2</td>\n",
              "      <td>2</td>\n",
              "      <td>8</td>\n",
              "      <td>65</td>\n",
              "      <td>3</td>\n",
              "      <td>0</td>\n",
              "      <td>130</td>\n",
              "      <td>2</td>\n",
              "      <td>135</td>\n",
              "      <td>244</td>\n",
              "    </tr>\n",
              "    <tr>\n",
              "      <th>187</th>\n",
              "      <td>2019</td>\n",
              "      <td>RPMP</td>\n",
              "      <td>0</td>\n",
              "      <td>0</td>\n",
              "      <td>1</td>\n",
              "      <td>0</td>\n",
              "      <td>0</td>\n",
              "      <td>12</td>\n",
              "      <td>1</td>\n",
              "      <td>0</td>\n",
              "      <td>0</td>\n",
              "      <td>6</td>\n",
              "      <td>33</td>\n",
              "      <td>0</td>\n",
              "      <td>0</td>\n",
              "      <td>68</td>\n",
              "      <td>0</td>\n",
              "      <td>68</td>\n",
              "      <td>121</td>\n",
              "    </tr>\n",
              "    <tr>\n",
              "      <th>188</th>\n",
              "      <td>2019</td>\n",
              "      <td>ATU</td>\n",
              "      <td>0</td>\n",
              "      <td>0</td>\n",
              "      <td>0</td>\n",
              "      <td>0</td>\n",
              "      <td>0</td>\n",
              "      <td>0</td>\n",
              "      <td>0</td>\n",
              "      <td>0</td>\n",
              "      <td>0</td>\n",
              "      <td>0</td>\n",
              "      <td>0</td>\n",
              "      <td>0</td>\n",
              "      <td>0</td>\n",
              "      <td>0</td>\n",
              "      <td>0</td>\n",
              "      <td>0</td>\n",
              "      <td>0</td>\n",
              "    </tr>\n",
              "    <tr>\n",
              "      <th>189</th>\n",
              "      <td>2019</td>\n",
              "      <td>Total</td>\n",
              "      <td>32</td>\n",
              "      <td>68</td>\n",
              "      <td>351</td>\n",
              "      <td>48</td>\n",
              "      <td>1</td>\n",
              "      <td>1139</td>\n",
              "      <td>46</td>\n",
              "      <td>69</td>\n",
              "      <td>174</td>\n",
              "      <td>494</td>\n",
              "      <td>5428</td>\n",
              "      <td>174</td>\n",
              "      <td>30</td>\n",
              "      <td>9069</td>\n",
              "      <td>361</td>\n",
              "      <td>9634</td>\n",
              "      <td>17484</td>\n",
              "    </tr>\n",
              "  </tbody>\n",
              "</table>\n",
              "</div>\n",
              "      <button class=\"colab-df-convert\" onclick=\"convertToInteractive('df-ae332878-04cc-4760-8949-cd88ff4d9947')\"\n",
              "              title=\"Convert this dataframe to an interactive table.\"\n",
              "              style=\"display:none;\">\n",
              "        \n",
              "  <svg xmlns=\"http://www.w3.org/2000/svg\" height=\"24px\"viewBox=\"0 0 24 24\"\n",
              "       width=\"24px\">\n",
              "    <path d=\"M0 0h24v24H0V0z\" fill=\"none\"/>\n",
              "    <path d=\"M18.56 5.44l.94 2.06.94-2.06 2.06-.94-2.06-.94-.94-2.06-.94 2.06-2.06.94zm-11 1L8.5 8.5l.94-2.06 2.06-.94-2.06-.94L8.5 2.5l-.94 2.06-2.06.94zm10 10l.94 2.06.94-2.06 2.06-.94-2.06-.94-.94-2.06-.94 2.06-2.06.94z\"/><path d=\"M17.41 7.96l-1.37-1.37c-.4-.4-.92-.59-1.43-.59-.52 0-1.04.2-1.43.59L10.3 9.45l-7.72 7.72c-.78.78-.78 2.05 0 2.83L4 21.41c.39.39.9.59 1.41.59.51 0 1.02-.2 1.41-.59l7.78-7.78 2.81-2.81c.8-.78.8-2.07 0-2.86zM5.41 20L4 18.59l7.72-7.72 1.47 1.35L5.41 20z\"/>\n",
              "  </svg>\n",
              "      </button>\n",
              "      \n",
              "  <style>\n",
              "    .colab-df-container {\n",
              "      display:flex;\n",
              "      flex-wrap:wrap;\n",
              "      gap: 12px;\n",
              "    }\n",
              "\n",
              "    .colab-df-convert {\n",
              "      background-color: #E8F0FE;\n",
              "      border: none;\n",
              "      border-radius: 50%;\n",
              "      cursor: pointer;\n",
              "      display: none;\n",
              "      fill: #1967D2;\n",
              "      height: 32px;\n",
              "      padding: 0 0 0 0;\n",
              "      width: 32px;\n",
              "    }\n",
              "\n",
              "    .colab-df-convert:hover {\n",
              "      background-color: #E2EBFA;\n",
              "      box-shadow: 0px 1px 2px rgba(60, 64, 67, 0.3), 0px 1px 3px 1px rgba(60, 64, 67, 0.15);\n",
              "      fill: #174EA6;\n",
              "    }\n",
              "\n",
              "    [theme=dark] .colab-df-convert {\n",
              "      background-color: #3B4455;\n",
              "      fill: #D2E3FC;\n",
              "    }\n",
              "\n",
              "    [theme=dark] .colab-df-convert:hover {\n",
              "      background-color: #434B5C;\n",
              "      box-shadow: 0px 1px 3px 1px rgba(0, 0, 0, 0.15);\n",
              "      filter: drop-shadow(0px 1px 2px rgba(0, 0, 0, 0.3));\n",
              "      fill: #FFFFFF;\n",
              "    }\n",
              "  </style>\n",
              "\n",
              "      <script>\n",
              "        const buttonEl =\n",
              "          document.querySelector('#df-ae332878-04cc-4760-8949-cd88ff4d9947 button.colab-df-convert');\n",
              "        buttonEl.style.display =\n",
              "          google.colab.kernel.accessAllowed ? 'block' : 'none';\n",
              "\n",
              "        async function convertToInteractive(key) {\n",
              "          const element = document.querySelector('#df-ae332878-04cc-4760-8949-cd88ff4d9947');\n",
              "          const dataTable =\n",
              "            await google.colab.kernel.invokeFunction('convertToInteractive',\n",
              "                                                     [key], {});\n",
              "          if (!dataTable) return;\n",
              "\n",
              "          const docLinkHtml = 'Like what you see? Visit the ' +\n",
              "            '<a target=\"_blank\" href=https://colab.research.google.com/notebooks/data_table.ipynb>data table notebook</a>'\n",
              "            + ' to learn more about interactive tables.';\n",
              "          element.innerHTML = '';\n",
              "          dataTable['output_type'] = 'display_data';\n",
              "          await google.colab.output.renderOutput(dataTable, element);\n",
              "          const docLink = document.createElement('div');\n",
              "          docLink.innerHTML = docLinkHtml;\n",
              "          element.appendChild(docLink);\n",
              "        }\n",
              "      </script>\n",
              "    </div>\n",
              "  </div>\n",
              "  "
            ]
          },
          "metadata": {},
          "execution_count": 50
        }
      ]
    },
    {
      "cell_type": "code",
      "source": [
        "df.info()"
      ],
      "metadata": {
        "colab": {
          "base_uri": "https://localhost:8080/"
        },
        "id": "-9mB-TIp1CBL",
        "outputId": "9bbf36a5-afc2-46f1-9275-8899458345d0"
      },
      "execution_count": 51,
      "outputs": [
        {
          "output_type": "stream",
          "name": "stdout",
          "text": [
            "<class 'pandas.core.frame.DataFrame'>\n",
            "RangeIndex: 190 entries, 0 to 189\n",
            "Data columns (total 19 columns):\n",
            " #   Column                    Non-Null Count  Dtype \n",
            "---  ------                    --------------  ----- \n",
            " 0   Year                      190 non-null    int64 \n",
            " 1   Unit Name                 190 non-null    object\n",
            " 2   Dacoity                   190 non-null    int64 \n",
            " 3   Robbery                   190 non-null    int64 \n",
            " 4   Murder                    190 non-null    int64 \n",
            " 5   Speedy Trial              190 non-null    int64 \n",
            " 6   Riot                      190 non-null    int64 \n",
            " 7   Woman & Child Repression  190 non-null    int64 \n",
            " 8   Kidnapping                190 non-null    int64 \n",
            " 9   Police Assault            190 non-null    int64 \n",
            " 10  Burglary                  190 non-null    int64 \n",
            " 11  Theft                     190 non-null    int64 \n",
            " 12  Other Cases               190 non-null    int64 \n",
            " 13  Arms Act - RC             190 non-null    int64 \n",
            " 14  Explosive - RC            190 non-null    int64 \n",
            " 15  Narcotics - RC            190 non-null    int64 \n",
            " 16  Smuggling - RC            190 non-null    int64 \n",
            " 17  Total - RC                190 non-null    int64 \n",
            " 18  Total Cases               190 non-null    int64 \n",
            "dtypes: int64(18), object(1)\n",
            "memory usage: 28.3+ KB\n"
          ]
        }
      ]
    },
    {
      "cell_type": "code",
      "source": [
        "df.isnull().sum()"
      ],
      "metadata": {
        "colab": {
          "base_uri": "https://localhost:8080/"
        },
        "id": "h3G-1rcp1HCr",
        "outputId": "73a6f983-8e97-4969-b8a4-cd1b2086bb5a"
      },
      "execution_count": 52,
      "outputs": [
        {
          "output_type": "execute_result",
          "data": {
            "text/plain": [
              "Year                        0\n",
              "Unit Name                   0\n",
              "Dacoity                     0\n",
              "Robbery                     0\n",
              "Murder                      0\n",
              "Speedy Trial                0\n",
              "Riot                        0\n",
              "Woman & Child Repression    0\n",
              "Kidnapping                  0\n",
              "Police Assault              0\n",
              "Burglary                    0\n",
              "Theft                       0\n",
              "Other Cases                 0\n",
              "Arms Act - RC               0\n",
              "Explosive - RC              0\n",
              "Narcotics - RC              0\n",
              "Smuggling - RC              0\n",
              "Total - RC                  0\n",
              "Total Cases                 0\n",
              "dtype: int64"
            ]
          },
          "metadata": {},
          "execution_count": 52
        }
      ]
    },
    {
      "cell_type": "code",
      "source": [
        "plt.figure(figsize=(25,25))\n",
        "sns.heatmap(df.isnull())"
      ],
      "metadata": {
        "colab": {
          "base_uri": "https://localhost:8080/",
          "height": 1000
        },
        "id": "xLJkLhKN1xRr",
        "outputId": "7544fd9d-26b8-4ed3-be0b-ff88b8dd0bf8"
      },
      "execution_count": 53,
      "outputs": [
        {
          "output_type": "execute_result",
          "data": {
            "text/plain": [
              "<matplotlib.axes._subplots.AxesSubplot at 0x7ff556ce92b0>"
            ]
          },
          "metadata": {},
          "execution_count": 53
        },
        {
          "output_type": "display_data",
          "data": {
            "text/plain": [
              "<Figure size 1800x1800 with 2 Axes>"
            ],
            "image/png": "[encoded data removed]"
          },
          "metadata": {
            "needs_background": "light"
          }
        }
      ]
    },
    {
      "cell_type": "code",
      "source": [
        "null_var = df.isnull().sum()/df.shape[0] *100\n",
        "null_var"
      ],
      "metadata": {
        "colab": {
          "base_uri": "https://localhost:8080/"
        },
        "id": "gQ6Q4sKN22vr",
        "outputId": "7bafb14e-eab9-4ec0-81d7-0a1db6545568"
      },
      "execution_count": 54,
      "outputs": [
        {
          "output_type": "execute_result",
          "data": {
            "text/plain": [
              "Year                        0.0\n",
              "Unit Name                   0.0\n",
              "Dacoity                     0.0\n",
              "Robbery                     0.0\n",
              "Murder                      0.0\n",
              "Speedy Trial                0.0\n",
              "Riot                        0.0\n",
              "Woman & Child Repression    0.0\n",
              "Kidnapping                  0.0\n",
              "Police Assault              0.0\n",
              "Burglary                    0.0\n",
              "Theft                       0.0\n",
              "Other Cases                 0.0\n",
              "Arms Act - RC               0.0\n",
              "Explosive - RC              0.0\n",
              "Narcotics - RC              0.0\n",
              "Smuggling - RC              0.0\n",
              "Total - RC                  0.0\n",
              "Total Cases                 0.0\n",
              "dtype: float64"
            ]
          },
          "metadata": {},
          "execution_count": 54
        }
      ]
    },
    {
      "cell_type": "code",
      "source": [
        "df.info()"
      ],
      "metadata": {
        "colab": {
          "base_uri": "https://localhost:8080/"
        },
        "id": "6ZtIGEN255Nb",
        "outputId": "07dcefc7-5a8a-4c30-85d2-d49fb25377bf"
      },
      "execution_count": 60,
      "outputs": [
        {
          "output_type": "stream",
          "name": "stdout",
          "text": [
            "<class 'pandas.core.frame.DataFrame'>\n",
            "RangeIndex: 190 entries, 0 to 189\n",
            "Data columns (total 19 columns):\n",
            " #   Column                    Non-Null Count  Dtype \n",
            "---  ------                    --------------  ----- \n",
            " 0   Year                      190 non-null    int64 \n",
            " 1   Unit Name                 190 non-null    object\n",
            " 2   Dacoity                   190 non-null    int64 \n",
            " 3   Robbery                   190 non-null    int64 \n",
            " 4   Murder                    190 non-null    int64 \n",
            " 5   Speedy Trial              190 non-null    int64 \n",
            " 6   Riot                      190 non-null    int64 \n",
            " 7   Woman & Child Repression  190 non-null    int64 \n",
            " 8   Kidnapping                190 non-null    int64 \n",
            " 9   Police Assault            190 non-null    int64 \n",
            " 10  Burglary                  190 non-null    int64 \n",
            " 11  Theft                     190 non-null    int64 \n",
            " 12  Other Cases               190 non-null    int64 \n",
            " 13  Arms Act - RC             190 non-null    int64 \n",
            " 14  Explosive - RC            190 non-null    int64 \n",
            " 15  Narcotics - RC            190 non-null    int64 \n",
            " 16  Smuggling - RC            190 non-null    int64 \n",
            " 17  Total - RC                190 non-null    int64 \n",
            " 18  Total Cases               190 non-null    int64 \n",
            "dtypes: int64(18), object(1)\n",
            "memory usage: 28.3+ KB\n"
          ]
        }
      ]
    },
    {
      "cell_type": "code",
      "source": [
        "sns.distplot(df['Year'])"
      ],
      "metadata": {
        "colab": {
          "base_uri": "https://localhost:8080/",
          "height": 359
        },
        "id": "6nOOqUBV2miU",
        "outputId": "14c5d0d1-342f-47ad-99e4-6d7e1b3e4e7e"
      },
      "execution_count": 61,
      "outputs": [
        {
          "output_type": "stream",
          "name": "stderr",
          "text": [
            "/usr/local/lib/python3.8/dist-packages/seaborn/distributions.py:2619: FutureWarning: `distplot` is a deprecated function and will be removed in a future version. Please adapt your code to use either `displot` (a figure-level function with similar flexibility) or `histplot` (an axes-level function for histograms).\n",
            "  warnings.warn(msg, FutureWarning)\n"
          ]
        },
        {
          "output_type": "execute_result",
          "data": {
            "text/plain": [
              "<matplotlib.axes._subplots.AxesSubplot at 0x7ff551e58c40>"
            ]
          },
          "metadata": {},
          "execution_count": 61
        },
        {
          "output_type": "display_data",
          "data": {
            "text/plain": [
              "<Figure size 432x288 with 1 Axes>"
            ],
            "image/png": "[encoded data removed]"
          },
          "metadata": {
            "needs_background": "light"
          }
        }
      ]
    },
    {
      "cell_type": "code",
      "source": [
        "sns.distplot(df['Robbery'])"
      ],
      "metadata": {
        "colab": {
          "base_uri": "https://localhost:8080/",
          "height": 298
        },
        "id": "FrQnSm8P59R9",
        "outputId": "fc30bc05-3a5f-4387-d840-c77dc13dc04a"
      },
      "execution_count": 64,
      "outputs": [
        {
          "output_type": "execute_result",
          "data": {
            "text/plain": [
              "<matplotlib.axes._subplots.AxesSubplot at 0x7ff54fdd4970>"
            ]
          },
          "metadata": {},
          "execution_count": 64
        },
        {
          "output_type": "display_data",
          "data": {
            "text/plain": [
              "<Figure size 432x288 with 1 Axes>"
            ],
            "image/png": "[encoded data removed]"
          },
          "metadata": {
            "needs_background": "light"
          }
        }
      ]
    },
    {
      "cell_type": "code",
      "source": [
        "sns.distplot(df['Year'])\n",
        "sns.distplot(null_var['Year'])"
      ],
      "metadata": {
        "colab": {
          "base_uri": "https://localhost:8080/",
          "height": 431
        },
        "id": "_Uq5U_0I6s3f",
        "outputId": "d252def9-8c00-4d4e-e31e-a228a7eaf971"
      },
      "execution_count": 66,
      "outputs": [
        {
          "output_type": "stream",
          "name": "stderr",
          "text": [
            "/usr/local/lib/python3.8/dist-packages/seaborn/distributions.py:2619: FutureWarning: `distplot` is a deprecated function and will be removed in a future version. Please adapt your code to use either `displot` (a figure-level function with similar flexibility) or `histplot` (an axes-level function for histograms).\n",
            "  warnings.warn(msg, FutureWarning)\n",
            "/usr/local/lib/python3.8/dist-packages/seaborn/distributions.py:2619: FutureWarning: `distplot` is a deprecated function and will be removed in a future version. Please adapt your code to use either `displot` (a figure-level function with similar flexibility) or `histplot` (an axes-level function for histograms).\n",
            "  warnings.warn(msg, FutureWarning)\n",
            "/usr/local/lib/python3.8/dist-packages/seaborn/distributions.py:316: UserWarning: Dataset has 0 variance; skipping density estimate. Pass `warn_singular=False` to disable this warning.\n",
            "  warnings.warn(msg, UserWarning)\n"
          ]
        },
        {
          "output_type": "execute_result",
          "data": {
            "text/plain": [
              "<matplotlib.axes._subplots.AxesSubplot at 0x7ff551e53be0>"
            ]
          },
          "metadata": {},
          "execution_count": 66
        },
        {
          "output_type": "display_data",
          "data": {
            "text/plain": [
              "<Figure size 432x288 with 1 Axes>"
            ],
            "image/png": "[encoded data removed]"
          },
          "metadata": {
            "needs_background": "light"
          }
        }
      ]
    },
    {
      "cell_type": "code",
      "source": [
        "df.info()"
      ],
      "metadata": {
        "colab": {
          "base_uri": "https://localhost:8080/"
        },
        "id": "zv6VoLNF8GXs",
        "outputId": "29601ab1-391b-441d-9c37-8b7189392480"
      },
      "execution_count": 68,
      "outputs": [
        {
          "output_type": "stream",
          "name": "stdout",
          "text": [
            "<class 'pandas.core.frame.DataFrame'>\n",
            "RangeIndex: 190 entries, 0 to 189\n",
            "Data columns (total 19 columns):\n",
            " #   Column                    Non-Null Count  Dtype \n",
            "---  ------                    --------------  ----- \n",
            " 0   Year                      190 non-null    int64 \n",
            " 1   Unit Name                 190 non-null    object\n",
            " 2   Dacoity                   190 non-null    int64 \n",
            " 3   Robbery                   190 non-null    int64 \n",
            " 4   Murder                    190 non-null    int64 \n",
            " 5   Speedy Trial              190 non-null    int64 \n",
            " 6   Riot                      190 non-null    int64 \n",
            " 7   Woman & Child Repression  190 non-null    int64 \n",
            " 8   Kidnapping                190 non-null    int64 \n",
            " 9   Police Assault            190 non-null    int64 \n",
            " 10  Burglary                  190 non-null    int64 \n",
            " 11  Theft                     190 non-null    int64 \n",
            " 12  Other Cases               190 non-null    int64 \n",
            " 13  Arms Act - RC             190 non-null    int64 \n",
            " 14  Explosive - RC            190 non-null    int64 \n",
            " 15  Narcotics - RC            190 non-null    int64 \n",
            " 16  Smuggling - RC            190 non-null    int64 \n",
            " 17  Total - RC                190 non-null    int64 \n",
            " 18  Total Cases               190 non-null    int64 \n",
            "dtypes: int64(18), object(1)\n",
            "memory usage: 28.3+ KB\n"
          ]
        }
      ]
    },
    {
      "cell_type": "code",
      "source": [
        "df.select_dtypes(include=['int64','float64']).columns"
      ],
      "metadata": {
        "colab": {
          "base_uri": "https://localhost:8080/"
        },
        "id": "dscee3OD7x48",
        "outputId": "aa0e6714-66c7-4f93-fd17-6b7a66d9e2b4"
      },
      "execution_count": 67,
      "outputs": [
        {
          "output_type": "execute_result",
          "data": {
            "text/plain": [
              "Index(['Year', 'Dacoity', 'Robbery', 'Murder', 'Speedy Trial', 'Riot',\n",
              "       'Woman & Child Repression', 'Kidnapping', 'Police Assault', 'Burglary',\n",
              "       'Theft', 'Other Cases', 'Arms Act - RC', 'Explosive - RC',\n",
              "       'Narcotics - RC', 'Smuggling - RC', 'Total - RC', 'Total Cases'],\n",
              "      dtype='object')"
            ]
          },
          "metadata": {},
          "execution_count": 67
        }
      ]
    },
    {
      "cell_type": "code",
      "source": [
        "num_var=['Year', 'Dacoity', 'Robbery', 'Murder', 'Speedy Trial', 'Riot',\n",
        "       'Woman & Child Repression', 'Kidnapping', 'Police Assault', 'Burglary',\n",
        "       'Theft', 'Other Cases', 'Arms Act - RC', 'Explosive - RC',\n",
        "       'Narcotics - RC', 'Smuggling - RC', 'Total - RC', 'Total Cases']\n"
      ],
      "metadata": {
        "id": "uICvD5JY7O13"
      },
      "execution_count": 71,
      "outputs": []
    },
    {
      "cell_type": "code",
      "source": [
        "sns.distplot(df['Year'])"
      ],
      "metadata": {
        "colab": {
          "base_uri": "https://localhost:8080/",
          "height": 359
        },
        "id": "ns9k_uwG_of4",
        "outputId": "4dfdbd99-9411-46cf-d7f6-35bd6f426099"
      },
      "execution_count": 82,
      "outputs": [
        {
          "output_type": "stream",
          "name": "stderr",
          "text": [
            "/usr/local/lib/python3.8/dist-packages/seaborn/distributions.py:2619: FutureWarning: `distplot` is a deprecated function and will be removed in a future version. Please adapt your code to use either `displot` (a figure-level function with similar flexibility) or `histplot` (an axes-level function for histograms).\n",
            "  warnings.warn(msg, FutureWarning)\n"
          ]
        },
        {
          "output_type": "execute_result",
          "data": {
            "text/plain": [
              "<matplotlib.axes._subplots.AxesSubplot at 0x7ff54eef0d60>"
            ]
          },
          "metadata": {},
          "execution_count": 82
        },
        {
          "output_type": "display_data",
          "data": {
            "text/plain": [
              "<Figure size 432x288 with 1 Axes>"
            ],
            "image/png": "[encoded data removed]"
          },
          "metadata": {
            "needs_background": "light"
          }
        }
      ]
    },
    {
      "cell_type": "code",
      "source": [
        "sns.distplot(df['Dacoity'])"
      ],
      "metadata": {
        "colab": {
          "base_uri": "https://localhost:8080/",
          "height": 356
        },
        "id": "mjkYPzwB_q3E",
        "outputId": "0d543e42-c41b-4386-daa1-61ac0388a31b"
      },
      "execution_count": 83,
      "outputs": [
        {
          "output_type": "stream",
          "name": "stderr",
          "text": [
            "/usr/local/lib/python3.8/dist-packages/seaborn/distributions.py:2619: FutureWarning: `distplot` is a deprecated function and will be removed in a future version. Please adapt your code to use either `displot` (a figure-level function with similar flexibility) or `histplot` (an axes-level function for histograms).\n",
            "  warnings.warn(msg, FutureWarning)\n"
          ]
        },
        {
          "output_type": "execute_result",
          "data": {
            "text/plain": [
              "<matplotlib.axes._subplots.AxesSubplot at 0x7ff54eef0cd0>"
            ]
          },
          "metadata": {},
          "execution_count": 83
        },
        {
          "output_type": "display_data",
          "data": {
            "text/plain": [
              "<Figure size 432x288 with 1 Axes>"
            ],
            "image/png": "[encoded data removed]"
          },
          "metadata": {
            "needs_background": "light"
          }
        }
      ]
    },
    {
      "cell_type": "code",
      "source": [
        "sns.distplot(df['Robbery'])"
      ],
      "metadata": {
        "colab": {
          "base_uri": "https://localhost:8080/",
          "height": 355
        },
        "id": "YIx6OQ3n_0wE",
        "outputId": "8fe32117-a643-4a03-add9-e1cbc432ee69"
      },
      "execution_count": 84,
      "outputs": [
        {
          "output_type": "stream",
          "name": "stderr",
          "text": [
            "/usr/local/lib/python3.8/dist-packages/seaborn/distributions.py:2619: FutureWarning: `distplot` is a deprecated function and will be removed in a future version. Please adapt your code to use either `displot` (a figure-level function with similar flexibility) or `histplot` (an axes-level function for histograms).\n",
            "  warnings.warn(msg, FutureWarning)\n"
          ]
        },
        {
          "output_type": "execute_result",
          "data": {
            "text/plain": [
              "<matplotlib.axes._subplots.AxesSubplot at 0x7ff54e9a4250>"
            ]
          },
          "metadata": {},
          "execution_count": 84
        },
        {
          "output_type": "display_data",
          "data": {
            "text/plain": [
              "<Figure size 432x288 with 1 Axes>"
            ],
            "image/png": "[encoded data removed]"
          },
          "metadata": {
            "needs_background": "light"
          }
        }
      ]
    },
    {
      "cell_type": "code",
      "source": [
        "sns.distplot(df['Murder'])"
      ],
      "metadata": {
        "colab": {
          "base_uri": "https://localhost:8080/",
          "height": 355
        },
        "id": "OWSEFHlH_tyg",
        "outputId": "178fff5f-1d11-4f9e-e5d7-32be5e8af0f1"
      },
      "execution_count": 85,
      "outputs": [
        {
          "output_type": "stream",
          "name": "stderr",
          "text": [
            "/usr/local/lib/python3.8/dist-packages/seaborn/distributions.py:2619: FutureWarning: `distplot` is a deprecated function and will be removed in a future version. Please adapt your code to use either `displot` (a figure-level function with similar flexibility) or `histplot` (an axes-level function for histograms).\n",
            "  warnings.warn(msg, FutureWarning)\n"
          ]
        },
        {
          "output_type": "execute_result",
          "data": {
            "text/plain": [
              "<matplotlib.axes._subplots.AxesSubplot at 0x7ff54ed20820>"
            ]
          },
          "metadata": {},
          "execution_count": 85
        },
        {
          "output_type": "display_data",
          "data": {
            "text/plain": [
              "<Figure size 432x288 with 1 Axes>"
            ],
            "image/png": "[encoded data removed]"
          },
          "metadata": {
            "needs_background": "light"
          }
        }
      ]
    },
    {
      "cell_type": "code",
      "source": [
        "sns.distplot(df['Speedy Trial'])"
      ],
      "metadata": {
        "colab": {
          "base_uri": "https://localhost:8080/",
          "height": 355
        },
        "id": "e3iT6zoV_2If",
        "outputId": "b8ec9c65-982b-41fb-855f-9502395b50d8"
      },
      "execution_count": 86,
      "outputs": [
        {
          "output_type": "stream",
          "name": "stderr",
          "text": [
            "/usr/local/lib/python3.8/dist-packages/seaborn/distributions.py:2619: FutureWarning: `distplot` is a deprecated function and will be removed in a future version. Please adapt your code to use either `displot` (a figure-level function with similar flexibility) or `histplot` (an axes-level function for histograms).\n",
            "  warnings.warn(msg, FutureWarning)\n"
          ]
        },
        {
          "output_type": "execute_result",
          "data": {
            "text/plain": [
              "<matplotlib.axes._subplots.AxesSubplot at 0x7ff54f2347f0>"
            ]
          },
          "metadata": {},
          "execution_count": 86
        },
        {
          "output_type": "display_data",
          "data": {
            "text/plain": [
              "<Figure size 432x288 with 1 Axes>"
            ],
            "image/png": "[encoded data removed]"
          },
          "metadata": {
            "needs_background": "light"
          }
        }
      ]
    },
    {
      "cell_type": "code",
      "source": [
        "sns.distplot(df['Kidnapping'])"
      ],
      "metadata": {
        "colab": {
          "base_uri": "https://localhost:8080/",
          "height": 355
        },
        "id": "hPaOC32P_20V",
        "outputId": "dcf33f72-a4ba-46e0-b61e-80af2d8dae1c"
      },
      "execution_count": 87,
      "outputs": [
        {
          "output_type": "stream",
          "name": "stderr",
          "text": [
            "/usr/local/lib/python3.8/dist-packages/seaborn/distributions.py:2619: FutureWarning: `distplot` is a deprecated function and will be removed in a future version. Please adapt your code to use either `displot` (a figure-level function with similar flexibility) or `histplot` (an axes-level function for histograms).\n",
            "  warnings.warn(msg, FutureWarning)\n"
          ]
        },
        {
          "output_type": "execute_result",
          "data": {
            "text/plain": [
              "<matplotlib.axes._subplots.AxesSubplot at 0x7ff54f03d460>"
            ]
          },
          "metadata": {},
          "execution_count": 87
        },
        {
          "output_type": "display_data",
          "data": {
            "text/plain": [
              "<Figure size 432x288 with 1 Axes>"
            ],
            "image/png": "[encoded data removed]"
          },
          "metadata": {
            "needs_background": "light"
          }
        }
      ]
    },
    {
      "cell_type": "code",
      "source": [
        "sns.distplot(df['Woman & Child Repression'])"
      ],
      "metadata": {
        "colab": {
          "base_uri": "https://localhost:8080/",
          "height": 355
        },
        "id": "HpFsqdJG_4cH",
        "outputId": "64143ef5-1f26-4266-9538-e70cf32ef96b"
      },
      "execution_count": 88,
      "outputs": [
        {
          "output_type": "stream",
          "name": "stderr",
          "text": [
            "/usr/local/lib/python3.8/dist-packages/seaborn/distributions.py:2619: FutureWarning: `distplot` is a deprecated function and will be removed in a future version. Please adapt your code to use either `displot` (a figure-level function with similar flexibility) or `histplot` (an axes-level function for histograms).\n",
            "  warnings.warn(msg, FutureWarning)\n"
          ]
        },
        {
          "output_type": "execute_result",
          "data": {
            "text/plain": [
              "<matplotlib.axes._subplots.AxesSubplot at 0x7ff54f8d52e0>"
            ]
          },
          "metadata": {},
          "execution_count": 88
        },
        {
          "output_type": "display_data",
          "data": {
            "text/plain": [
              "<Figure size 432x288 with 1 Axes>"
            ],
            "image/png": "[encoded data removed]"
          },
          "metadata": {
            "needs_background": "light"
          }
        }
      ]
    },
    {
      "cell_type": "code",
      "source": [
        "sns.distplot(df['Police Assault'])"
      ],
      "metadata": {
        "colab": {
          "base_uri": "https://localhost:8080/",
          "height": 355
        },
        "id": "srDTG56F_5Fu",
        "outputId": "4554916a-ea4e-4e59-804a-4023c980eaef"
      },
      "execution_count": 89,
      "outputs": [
        {
          "output_type": "stream",
          "name": "stderr",
          "text": [
            "/usr/local/lib/python3.8/dist-packages/seaborn/distributions.py:2619: FutureWarning: `distplot` is a deprecated function and will be removed in a future version. Please adapt your code to use either `displot` (a figure-level function with similar flexibility) or `histplot` (an axes-level function for histograms).\n",
            "  warnings.warn(msg, FutureWarning)\n"
          ]
        },
        {
          "output_type": "execute_result",
          "data": {
            "text/plain": [
              "<matplotlib.axes._subplots.AxesSubplot at 0x7ff54fdcfa60>"
            ]
          },
          "metadata": {},
          "execution_count": 89
        },
        {
          "output_type": "display_data",
          "data": {
            "text/plain": [
              "<Figure size 432x288 with 1 Axes>"
            ],
            "image/png": "[encoded data removed]"
          },
          "metadata": {
            "needs_background": "light"
          }
        }
      ]
    },
    {
      "cell_type": "code",
      "source": [
        "sns.distplot(df['Police Assault'])"
      ],
      "metadata": {
        "colab": {
          "base_uri": "https://localhost:8080/",
          "height": 355
        },
        "id": "8dURDM3LASGI",
        "outputId": "4b822ba6-b85a-4466-8e01-7a3cc8933b45"
      },
      "execution_count": 90,
      "outputs": [
        {
          "output_type": "stream",
          "name": "stderr",
          "text": [
            "/usr/local/lib/python3.8/dist-packages/seaborn/distributions.py:2619: FutureWarning: `distplot` is a deprecated function and will be removed in a future version. Please adapt your code to use either `displot` (a figure-level function with similar flexibility) or `histplot` (an axes-level function for histograms).\n",
            "  warnings.warn(msg, FutureWarning)\n"
          ]
        },
        {
          "output_type": "execute_result",
          "data": {
            "text/plain": [
              "<matplotlib.axes._subplots.AxesSubplot at 0x7ff54e7d86d0>"
            ]
          },
          "metadata": {},
          "execution_count": 90
        },
        {
          "output_type": "display_data",
          "data": {
            "text/plain": [
              "<Figure size 432x288 with 1 Axes>"
            ],
            "image/png": "[encoded data removed]"
          },
          "metadata": {
            "needs_background": "light"
          }
        }
      ]
    },
    {
      "cell_type": "code",
      "source": [
        "sns.distplot(df['Narcotics - RC'])"
      ],
      "metadata": {
        "colab": {
          "base_uri": "https://localhost:8080/",
          "height": 355
        },
        "id": "GLRfC85o_5sA",
        "outputId": "33e8bd04-60e2-400c-a85c-da5ecd4f6854"
      },
      "execution_count": 91,
      "outputs": [
        {
          "output_type": "stream",
          "name": "stderr",
          "text": [
            "/usr/local/lib/python3.8/dist-packages/seaborn/distributions.py:2619: FutureWarning: `distplot` is a deprecated function and will be removed in a future version. Please adapt your code to use either `displot` (a figure-level function with similar flexibility) or `histplot` (an axes-level function for histograms).\n",
            "  warnings.warn(msg, FutureWarning)\n"
          ]
        },
        {
          "output_type": "execute_result",
          "data": {
            "text/plain": [
              "<matplotlib.axes._subplots.AxesSubplot at 0x7ff54f9c3190>"
            ]
          },
          "metadata": {},
          "execution_count": 91
        },
        {
          "output_type": "display_data",
          "data": {
            "text/plain": [
              "<Figure size 432x288 with 1 Axes>"
            ],
            "image/png": "[encoded data removed]"
          },
          "metadata": {
            "needs_background": "light"
          }
        }
      ]
    },
    {
      "cell_type": "code",
      "source": [
        "sns.distplot(df['Smuggling - RC'])"
      ],
      "metadata": {
        "colab": {
          "base_uri": "https://localhost:8080/",
          "height": 355
        },
        "id": "FeeaafcwAYBo",
        "outputId": "d23766ef-f897-4a59-dd93-5ed0146fb282"
      },
      "execution_count": 92,
      "outputs": [
        {
          "output_type": "stream",
          "name": "stderr",
          "text": [
            "/usr/local/lib/python3.8/dist-packages/seaborn/distributions.py:2619: FutureWarning: `distplot` is a deprecated function and will be removed in a future version. Please adapt your code to use either `displot` (a figure-level function with similar flexibility) or `histplot` (an axes-level function for histograms).\n",
            "  warnings.warn(msg, FutureWarning)\n"
          ]
        },
        {
          "output_type": "execute_result",
          "data": {
            "text/plain": [
              "<matplotlib.axes._subplots.AxesSubplot at 0x7ff54ef81a60>"
            ]
          },
          "metadata": {},
          "execution_count": 92
        },
        {
          "output_type": "display_data",
          "data": {
            "text/plain": [
              "<Figure size 432x288 with 1 Axes>"
            ],
            "image/png": "[encoded data removed]"
          },
          "metadata": {
            "needs_background": "light"
          }
        }
      ]
    },
    {
      "cell_type": "code",
      "source": [
        "sns.distplot(df['Total - RC'])"
      ],
      "metadata": {
        "colab": {
          "base_uri": "https://localhost:8080/",
          "height": 355
        },
        "id": "1V6i8WLZAYzP",
        "outputId": "052a799d-accd-4d8c-a6ea-2648fe1844a1"
      },
      "execution_count": 93,
      "outputs": [
        {
          "output_type": "stream",
          "name": "stderr",
          "text": [
            "/usr/local/lib/python3.8/dist-packages/seaborn/distributions.py:2619: FutureWarning: `distplot` is a deprecated function and will be removed in a future version. Please adapt your code to use either `displot` (a figure-level function with similar flexibility) or `histplot` (an axes-level function for histograms).\n",
            "  warnings.warn(msg, FutureWarning)\n"
          ]
        },
        {
          "output_type": "execute_result",
          "data": {
            "text/plain": [
              "<matplotlib.axes._subplots.AxesSubplot at 0x7ff54eba9430>"
            ]
          },
          "metadata": {},
          "execution_count": 93
        },
        {
          "output_type": "display_data",
          "data": {
            "text/plain": [
              "<Figure size 432x288 with 1 Axes>"
            ],
            "image/png": "[encoded data removed]"
          },
          "metadata": {
            "needs_background": "light"
          }
        }
      ]
    },
    {
      "cell_type": "code",
      "source": [
        "sns.distplot(df['Total Cases'])"
      ],
      "metadata": {
        "colab": {
          "base_uri": "https://localhost:8080/",
          "height": 367
        },
        "id": "enUJUbrfAZmM",
        "outputId": "8bba6f73-37d5-42a1-9815-bbf74ae37482"
      },
      "execution_count": 94,
      "outputs": [
        {
          "output_type": "stream",
          "name": "stderr",
          "text": [
            "/usr/local/lib/python3.8/dist-packages/seaborn/distributions.py:2619: FutureWarning: `distplot` is a deprecated function and will be removed in a future version. Please adapt your code to use either `displot` (a figure-level function with similar flexibility) or `histplot` (an axes-level function for histograms).\n",
            "  warnings.warn(msg, FutureWarning)\n"
          ]
        },
        {
          "output_type": "execute_result",
          "data": {
            "text/plain": [
              "<matplotlib.axes._subplots.AxesSubplot at 0x7ff54fa88520>"
            ]
          },
          "metadata": {},
          "execution_count": 94
        },
        {
          "output_type": "display_data",
          "data": {
            "text/plain": [
              "<Figure size 432x288 with 1 Axes>"
            ],
            "image/png": "[encoded data removed]"
          },
          "metadata": {
            "needs_background": "light"
          }
        }
      ]
    },
    {
      "cell_type": "code",
      "source": [
        "plt.figure(figsize=(30,30))       \n",
        "for i,var in enumerate(num_var):\n",
        "    plt.subplot(9,4,i+1)\n",
        "    sns.distplot(df[var], bins=20)\n",
        "    sns.distplot(null_var[var], bins=20)"
      ],
      "metadata": {
        "colab": {
          "base_uri": "https://localhost:8080/",
          "height": 1000
        },
        "id": "ME5-I0hi9BMk",
        "outputId": "220c24b1-8a03-4d56-a145-34474fd6eaad"
      },
      "execution_count": 81,
      "outputs": [
        {
          "output_type": "stream",
          "name": "stderr",
          "text": [
            "/usr/local/lib/python3.8/dist-packages/seaborn/distributions.py:2619: FutureWarning: `distplot` is a deprecated function and will be removed in a future version. Please adapt your code to use either `displot` (a figure-level function with similar flexibility) or `histplot` (an axes-level function for histograms).\n",
            "  warnings.warn(msg, FutureWarning)\n",
            "/usr/local/lib/python3.8/dist-packages/seaborn/distributions.py:2619: FutureWarning: `distplot` is a deprecated function and will be removed in a future version. Please adapt your code to use either `displot` (a figure-level function with similar flexibility) or `histplot` (an axes-level function for histograms).\n",
            "  warnings.warn(msg, FutureWarning)\n",
            "/usr/local/lib/python3.8/dist-packages/seaborn/distributions.py:316: UserWarning: Dataset has 0 variance; skipping density estimate. Pass `warn_singular=False` to disable this warning.\n",
            "  warnings.warn(msg, UserWarning)\n",
            "/usr/local/lib/python3.8/dist-packages/seaborn/distributions.py:2619: FutureWarning: `distplot` is a deprecated function and will be removed in a future version. Please adapt your code to use either `displot` (a figure-level function with similar flexibility) or `histplot` (an axes-level function for histograms).\n",
            "  warnings.warn(msg, FutureWarning)\n",
            "/usr/local/lib/python3.8/dist-packages/seaborn/distributions.py:2619: FutureWarning: `distplot` is a deprecated function and will be removed in a future version. Please adapt your code to use either `displot` (a figure-level function with similar flexibility) or `histplot` (an axes-level function for histograms).\n",
            "  warnings.warn(msg, FutureWarning)\n",
            "/usr/local/lib/python3.8/dist-packages/seaborn/distributions.py:316: UserWarning: Dataset has 0 variance; skipping density estimate. Pass `warn_singular=False` to disable this warning.\n",
            "  warnings.warn(msg, UserWarning)\n",
            "/usr/local/lib/python3.8/dist-packages/seaborn/distributions.py:2619: FutureWarning: `distplot` is a deprecated function and will be removed in a future version. Please adapt your code to use either `displot` (a figure-level function with similar flexibility) or `histplot` (an axes-level function for histograms).\n",
            "  warnings.warn(msg, FutureWarning)\n",
            "/usr/local/lib/python3.8/dist-packages/seaborn/distributions.py:2619: FutureWarning: `distplot` is a deprecated function and will be removed in a future version. Please adapt your code to use either `displot` (a figure-level function with similar flexibility) or `histplot` (an axes-level function for histograms).\n",
            "  warnings.warn(msg, FutureWarning)\n",
            "/usr/local/lib/python3.8/dist-packages/seaborn/distributions.py:316: UserWarning: Dataset has 0 variance; skipping density estimate. Pass `warn_singular=False` to disable this warning.\n",
            "  warnings.warn(msg, UserWarning)\n",
            "/usr/local/lib/python3.8/dist-packages/seaborn/distributions.py:2619: FutureWarning: `distplot` is a deprecated function and will be removed in a future version. Please adapt your code to use either `displot` (a figure-level function with similar flexibility) or `histplot` (an axes-level function for histograms).\n",
            "  warnings.warn(msg, FutureWarning)\n",
            "/usr/local/lib/python3.8/dist-packages/seaborn/distributions.py:2619: FutureWarning: `distplot` is a deprecated function and will be removed in a future version. Please adapt your code to use either `displot` (a figure-level function with similar flexibility) or `histplot` (an axes-level function for histograms).\n",
            "  warnings.warn(msg, FutureWarning)\n",
            "/usr/local/lib/python3.8/dist-packages/seaborn/distributions.py:316: UserWarning: Dataset has 0 variance; skipping density estimate. Pass `warn_singular=False` to disable this warning.\n",
            "  warnings.warn(msg, UserWarning)\n",
            "/usr/local/lib/python3.8/dist-packages/seaborn/distributions.py:2619: FutureWarning: `distplot` is a deprecated function and will be removed in a future version. Please adapt your code to use either `displot` (a figure-level function with similar flexibility) or `histplot` (an axes-level function for histograms).\n",
            "  warnings.warn(msg, FutureWarning)\n",
            "/usr/local/lib/python3.8/dist-packages/seaborn/distributions.py:2619: FutureWarning: `distplot` is a deprecated function and will be removed in a future version. Please adapt your code to use either `displot` (a figure-level function with similar flexibility) or `histplot` (an axes-level function for histograms).\n",
            "  warnings.warn(msg, FutureWarning)\n",
            "/usr/local/lib/python3.8/dist-packages/seaborn/distributions.py:316: UserWarning: Dataset has 0 variance; skipping density estimate. Pass `warn_singular=False` to disable this warning.\n",
            "  warnings.warn(msg, UserWarning)\n",
            "/usr/local/lib/python3.8/dist-packages/seaborn/distributions.py:2619: FutureWarning: `distplot` is a deprecated function and will be removed in a future version. Please adapt your code to use either `displot` (a figure-level function with similar flexibility) or `histplot` (an axes-level function for histograms).\n",
            "  warnings.warn(msg, FutureWarning)\n",
            "/usr/local/lib/python3.8/dist-packages/seaborn/distributions.py:2619: FutureWarning: `distplot` is a deprecated function and will be removed in a future version. Please adapt your code to use either `displot` (a figure-level function with similar flexibility) or `histplot` (an axes-level function for histograms).\n",
            "  warnings.warn(msg, FutureWarning)\n",
            "/usr/local/lib/python3.8/dist-packages/seaborn/distributions.py:316: UserWarning: Dataset has 0 variance; skipping density estimate. Pass `warn_singular=False` to disable this warning.\n",
            "  warnings.warn(msg, UserWarning)\n",
            "/usr/local/lib/python3.8/dist-packages/seaborn/distributions.py:2619: FutureWarning: `distplot` is a deprecated function and will be removed in a future version. Please adapt your code to use either `displot` (a figure-level function with similar flexibility) or `histplot` (an axes-level function for histograms).\n",
            "  warnings.warn(msg, FutureWarning)\n",
            "/usr/local/lib/python3.8/dist-packages/seaborn/distributions.py:2619: FutureWarning: `distplot` is a deprecated function and will be removed in a future version. Please adapt your code to use either `displot` (a figure-level function with similar flexibility) or `histplot` (an axes-level function for histograms).\n",
            "  warnings.warn(msg, FutureWarning)\n",
            "/usr/local/lib/python3.8/dist-packages/seaborn/distributions.py:316: UserWarning: Dataset has 0 variance; skipping density estimate. Pass `warn_singular=False` to disable this warning.\n",
            "  warnings.warn(msg, UserWarning)\n",
            "/usr/local/lib/python3.8/dist-packages/seaborn/distributions.py:2619: FutureWarning: `distplot` is a deprecated function and will be removed in a future version. Please adapt your code to use either `displot` (a figure-level function with similar flexibility) or `histplot` (an axes-level function for histograms).\n",
            "  warnings.warn(msg, FutureWarning)\n",
            "/usr/local/lib/python3.8/dist-packages/seaborn/distributions.py:2619: FutureWarning: `distplot` is a deprecated function and will be removed in a future version. Please adapt your code to use either `displot` (a figure-level function with similar flexibility) or `histplot` (an axes-level function for histograms).\n",
            "  warnings.warn(msg, FutureWarning)\n",
            "/usr/local/lib/python3.8/dist-packages/seaborn/distributions.py:316: UserWarning: Dataset has 0 variance; skipping density estimate. Pass `warn_singular=False` to disable this warning.\n",
            "  warnings.warn(msg, UserWarning)\n",
            "/usr/local/lib/python3.8/dist-packages/seaborn/distributions.py:2619: FutureWarning: `distplot` is a deprecated function and will be removed in a future version. Please adapt your code to use either `displot` (a figure-level function with similar flexibility) or `histplot` (an axes-level function for histograms).\n",
            "  warnings.warn(msg, FutureWarning)\n",
            "/usr/local/lib/python3.8/dist-packages/seaborn/distributions.py:2619: FutureWarning: `distplot` is a deprecated function and will be removed in a future version. Please adapt your code to use either `displot` (a figure-level function with similar flexibility) or `histplot` (an axes-level function for histograms).\n",
            "  warnings.warn(msg, FutureWarning)\n",
            "/usr/local/lib/python3.8/dist-packages/seaborn/distributions.py:316: UserWarning: Dataset has 0 variance; skipping density estimate. Pass `warn_singular=False` to disable this warning.\n",
            "  warnings.warn(msg, UserWarning)\n",
            "/usr/local/lib/python3.8/dist-packages/seaborn/distributions.py:2619: FutureWarning: `distplot` is a deprecated function and will be removed in a future version. Please adapt your code to use either `displot` (a figure-level function with similar flexibility) or `histplot` (an axes-level function for histograms).\n",
            "  warnings.warn(msg, FutureWarning)\n",
            "/usr/local/lib/python3.8/dist-packages/seaborn/distributions.py:2619: FutureWarning: `distplot` is a deprecated function and will be removed in a future version. Please adapt your code to use either `displot` (a figure-level function with similar flexibility) or `histplot` (an axes-level function for histograms).\n",
            "  warnings.warn(msg, FutureWarning)\n",
            "/usr/local/lib/python3.8/dist-packages/seaborn/distributions.py:316: UserWarning: Dataset has 0 variance; skipping density estimate. Pass `warn_singular=False` to disable this warning.\n",
            "  warnings.warn(msg, UserWarning)\n",
            "/usr/local/lib/python3.8/dist-packages/seaborn/distributions.py:2619: FutureWarning: `distplot` is a deprecated function and will be removed in a future version. Please adapt your code to use either `displot` (a figure-level function with similar flexibility) or `histplot` (an axes-level function for histograms).\n",
            "  warnings.warn(msg, FutureWarning)\n",
            "/usr/local/lib/python3.8/dist-packages/seaborn/distributions.py:2619: FutureWarning: `distplot` is a deprecated function and will be removed in a future version. Please adapt your code to use either `displot` (a figure-level function with similar flexibility) or `histplot` (an axes-level function for histograms).\n",
            "  warnings.warn(msg, FutureWarning)\n",
            "/usr/local/lib/python3.8/dist-packages/seaborn/distributions.py:316: UserWarning: Dataset has 0 variance; skipping density estimate. Pass `warn_singular=False` to disable this warning.\n",
            "  warnings.warn(msg, UserWarning)\n",
            "/usr/local/lib/python3.8/dist-packages/seaborn/distributions.py:2619: FutureWarning: `distplot` is a deprecated function and will be removed in a future version. Please adapt your code to use either `displot` (a figure-level function with similar flexibility) or `histplot` (an axes-level function for histograms).\n",
            "  warnings.warn(msg, FutureWarning)\n",
            "/usr/local/lib/python3.8/dist-packages/seaborn/distributions.py:2619: FutureWarning: `distplot` is a deprecated function and will be removed in a future version. Please adapt your code to use either `displot` (a figure-level function with similar flexibility) or `histplot` (an axes-level function for histograms).\n",
            "  warnings.warn(msg, FutureWarning)\n",
            "/usr/local/lib/python3.8/dist-packages/seaborn/distributions.py:316: UserWarning: Dataset has 0 variance; skipping density estimate. Pass `warn_singular=False` to disable this warning.\n",
            "  warnings.warn(msg, UserWarning)\n",
            "/usr/local/lib/python3.8/dist-packages/seaborn/distributions.py:2619: FutureWarning: `distplot` is a deprecated function and will be removed in a future version. Please adapt your code to use either `displot` (a figure-level function with similar flexibility) or `histplot` (an axes-level function for histograms).\n",
            "  warnings.warn(msg, FutureWarning)\n",
            "/usr/local/lib/python3.8/dist-packages/seaborn/distributions.py:2619: FutureWarning: `distplot` is a deprecated function and will be removed in a future version. Please adapt your code to use either `displot` (a figure-level function with similar flexibility) or `histplot` (an axes-level function for histograms).\n",
            "  warnings.warn(msg, FutureWarning)\n",
            "/usr/local/lib/python3.8/dist-packages/seaborn/distributions.py:316: UserWarning: Dataset has 0 variance; skipping density estimate. Pass `warn_singular=False` to disable this warning.\n",
            "  warnings.warn(msg, UserWarning)\n",
            "/usr/local/lib/python3.8/dist-packages/seaborn/distributions.py:2619: FutureWarning: `distplot` is a deprecated function and will be removed in a future version. Please adapt your code to use either `displot` (a figure-level function with similar flexibility) or `histplot` (an axes-level function for histograms).\n",
            "  warnings.warn(msg, FutureWarning)\n",
            "/usr/local/lib/python3.8/dist-packages/seaborn/distributions.py:2619: FutureWarning: `distplot` is a deprecated function and will be removed in a future version. Please adapt your code to use either `displot` (a figure-level function with similar flexibility) or `histplot` (an axes-level function for histograms).\n",
            "  warnings.warn(msg, FutureWarning)\n",
            "/usr/local/lib/python3.8/dist-packages/seaborn/distributions.py:316: UserWarning: Dataset has 0 variance; skipping density estimate. Pass `warn_singular=False` to disable this warning.\n",
            "  warnings.warn(msg, UserWarning)\n",
            "/usr/local/lib/python3.8/dist-packages/seaborn/distributions.py:2619: FutureWarning: `distplot` is a deprecated function and will be removed in a future version. Please adapt your code to use either `displot` (a figure-level function with similar flexibility) or `histplot` (an axes-level function for histograms).\n",
            "  warnings.warn(msg, FutureWarning)\n",
            "/usr/local/lib/python3.8/dist-packages/seaborn/distributions.py:2619: FutureWarning: `distplot` is a deprecated function and will be removed in a future version. Please adapt your code to use either `displot` (a figure-level function with similar flexibility) or `histplot` (an axes-level function for histograms).\n",
            "  warnings.warn(msg, FutureWarning)\n",
            "/usr/local/lib/python3.8/dist-packages/seaborn/distributions.py:316: UserWarning: Dataset has 0 variance; skipping density estimate. Pass `warn_singular=False` to disable this warning.\n",
            "  warnings.warn(msg, UserWarning)\n",
            "/usr/local/lib/python3.8/dist-packages/seaborn/distributions.py:2619: FutureWarning: `distplot` is a deprecated function and will be removed in a future version. Please adapt your code to use either `displot` (a figure-level function with similar flexibility) or `histplot` (an axes-level function for histograms).\n",
            "  warnings.warn(msg, FutureWarning)\n",
            "/usr/local/lib/python3.8/dist-packages/seaborn/distributions.py:2619: FutureWarning: `distplot` is a deprecated function and will be removed in a future version. Please adapt your code to use either `displot` (a figure-level function with similar flexibility) or `histplot` (an axes-level function for histograms).\n",
            "  warnings.warn(msg, FutureWarning)\n",
            "/usr/local/lib/python3.8/dist-packages/seaborn/distributions.py:316: UserWarning: Dataset has 0 variance; skipping density estimate. Pass `warn_singular=False` to disable this warning.\n",
            "  warnings.warn(msg, UserWarning)\n",
            "/usr/local/lib/python3.8/dist-packages/seaborn/distributions.py:2619: FutureWarning: `distplot` is a deprecated function and will be removed in a future version. Please adapt your code to use either `displot` (a figure-level function with similar flexibility) or `histplot` (an axes-level function for histograms).\n",
            "  warnings.warn(msg, FutureWarning)\n",
            "/usr/local/lib/python3.8/dist-packages/seaborn/distributions.py:2619: FutureWarning: `distplot` is a deprecated function and will be removed in a future version. Please adapt your code to use either `displot` (a figure-level function with similar flexibility) or `histplot` (an axes-level function for histograms).\n",
            "  warnings.warn(msg, FutureWarning)\n",
            "/usr/local/lib/python3.8/dist-packages/seaborn/distributions.py:316: UserWarning: Dataset has 0 variance; skipping density estimate. Pass `warn_singular=False` to disable this warning.\n",
            "  warnings.warn(msg, UserWarning)\n",
            "/usr/local/lib/python3.8/dist-packages/seaborn/distributions.py:2619: FutureWarning: `distplot` is a deprecated function and will be removed in a future version. Please adapt your code to use either `displot` (a figure-level function with similar flexibility) or `histplot` (an axes-level function for histograms).\n",
            "  warnings.warn(msg, FutureWarning)\n",
            "/usr/local/lib/python3.8/dist-packages/seaborn/distributions.py:2619: FutureWarning: `distplot` is a deprecated function and will be removed in a future version. Please adapt your code to use either `displot` (a figure-level function with similar flexibility) or `histplot` (an axes-level function for histograms).\n",
            "  warnings.warn(msg, FutureWarning)\n",
            "/usr/local/lib/python3.8/dist-packages/seaborn/distributions.py:316: UserWarning: Dataset has 0 variance; skipping density estimate. Pass `warn_singular=False` to disable this warning.\n",
            "  warnings.warn(msg, UserWarning)\n"
          ]
        },
        {
          "output_type": "display_data",
          "data": {
            "text/plain": [
              "<Figure size 2160x2160 with 18 Axes>"
            ],
            "image/png": "[encoded data removed]"
          },
          "metadata": {
            "needs_background": "light"
          }
        }
      ]
    }
  ]
}